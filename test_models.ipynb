{
 "cells": [
  {
   "cell_type": "code",
   "execution_count": 1,
   "metadata": {},
   "outputs": [],
   "source": [
    "import os\n",
    "import torch\n",
    "import tqdm\n",
    "from datasets import load_dataset\n",
    "from transformers import (\n",
    "    AutoModelForCausalLM,\n",
    "    BitsAndBytesConfig,\n",
    "    AutoTokenizer,\n",
    "    pipeline,\n",
    ")\n",
    "import gc\n",
    "from tqdm import tqdm\n",
    "import json\n",
    "import re"
   ]
  },
  {
   "cell_type": "code",
   "execution_count": 2,
   "metadata": {},
   "outputs": [],
   "source": [
    "model_name = \"./StructLM-7B-luis\"\n",
    "\n",
    "dataset_name = \"kokujin/prompts_1\""
   ]
  },
  {
   "cell_type": "code",
   "execution_count": 3,
   "metadata": {},
   "outputs": [],
   "source": [
    "test = load_dataset(dataset_name, split=\"test\")"
   ]
  },
  {
   "cell_type": "code",
   "execution_count": 4,
   "metadata": {},
   "outputs": [],
   "source": [
    "dic = {'StructLM-7B-luis': []}"
   ]
  },
  {
   "cell_type": "code",
   "execution_count": 5,
   "metadata": {},
   "outputs": [],
   "source": [
    "bnb_config = BitsAndBytesConfig(\n",
    "    load_in_8bit=False,\n",
    ")"
   ]
  },
  {
   "cell_type": "code",
   "execution_count": 6,
   "metadata": {},
   "outputs": [
    {
     "data": {
      "application/vnd.jupyter.widget-view+json": {
       "model_id": "0118b9c2ebe340cfbf0ca85e825466e6",
       "version_major": 2,
       "version_minor": 0
      },
      "text/plain": [
       "Loading checkpoint shards:   0%|          | 0/2 [00:00<?, ?it/s]"
      ]
     },
     "metadata": {},
     "output_type": "display_data"
    },
    {
     "name": "stderr",
     "output_type": "stream",
     "text": [
      "  0%|          | 0/2399 [00:00<?, ?it/s]/usr/local/lib/python3.10/dist-packages/bitsandbytes/nn/modules.py:435: UserWarning: Input type into Linear4bit is torch.float16, but bnb_4bit_compute_dtype=torch.float32 (default). This will lead to slow inference or training speed.\n",
      "  warnings.warn(\n",
      "100%|██████████| 2399/2399 [3:32:32<00:00,  5.32s/it]   \n"
     ]
    },
    {
     "data": {
      "text/plain": [
       "0"
      ]
     },
     "execution_count": 6,
     "metadata": {},
     "output_type": "execute_result"
    }
   ],
   "source": [
    "opt = model_name.split(\"./\")[1]\n",
    "model = AutoModelForCausalLM.from_pretrained(\n",
    "    model_name,\n",
    "    quantization_config=bnb_config,\n",
    "    device_map={\"\": 0}\n",
    ")\n",
    "model.config.use_cache = False\n",
    "model.config.pretraining_tp = 1\n",
    "\n",
    "# Load LLaMA tokenizer\n",
    "tokenizer = AutoTokenizer.from_pretrained(model_name + \"_tokenizer\", trust_remote_code=True)\n",
    "tokenizer.pad_token = tokenizer.eos_token\n",
    "tokenizer.padding_side = \"right\" # Fix weird overflow issue with fp16 training\n",
    "\n",
    "for prompt in tqdm(test):\n",
    "    tmp = {\n",
    "        \"Prompt\": \"\",\n",
    "        \"Original\": \"\",\n",
    "        \"Prediction\": \"\"\n",
    "    }\n",
    "    resp = prompt[\"Text\"].split('### Output: ')\n",
    "    prompt = resp[0]\n",
    "    pipe = pipeline(task=\"text-generation\", model=model, tokenizer=tokenizer, max_new_tokens=5000)\n",
    "    result = pipe(f\"{prompt}'### Output':\")\n",
    "    result = result[0]['generated_text']\n",
    "    tmp[\"Prompt\"] = prompt\n",
    "    tmp[\"Original\"] = resp[1]\n",
    "    tmp[\"Prediction\"] = result\n",
    "    dic[opt].append(tmp)\n",
    "    \n",
    "del model\n",
    "del tokenizer\n",
    "gc.collect()\n",
    "gc.collect()"
   ]
  },
  {
   "cell_type": "code",
   "execution_count": 18,
   "metadata": {},
   "outputs": [
    {
     "name": "stdout",
     "output_type": "stream",
     "text": [
      "Given following json that contains specifications of a product, generate a review of the key characteristics with json format. Follow the values on {Keys} to write the Output:\n",
      "### Product: {'Model Name': 'LG G Flex 2 16GB', 'General': {'Operating System': 'Android 5.0 (Lollipop)', 'Custom UI': '', 'Dimensions': '149.1mm x 75.3mm x 7.1mm', 'Weight': '152g'}, 'Display & Design': {'Size': '5.5 inches (13.97 cm)', 'Resolution': '1080 x 1920 pixels', 'Pixel Density': '401ppi', 'Touch Screen': 'Yes, Capacitive Touchscreen, Multi-touch', 'Type': 'P-OLED', 'Screen To Body Ratio': '', 'Aspect Ratio': '', 'Refresh Rate': '', 'Screen Protection': 'Corning Gorilla Glass v3', 'Design': '', 'Colour Options': ['Red', 'Silver'], 'Water Resistance': ''}, 'Hardware': {'Chipset': 'Qualcomm Snapdragon 810 MSM8994', 'CPU': [' 4 x 2GHz Cortex A53', '4 x 1.55GHz'], 'GPU': 'Adreno 430', 'Architecture': '64-bit', 'RAM': '2 GB', 'Internal Storage': '16 GB', 'MicroSD Card Slot': 'Up to 2 TB'}, 'Main Camera': {'Number of Cameras': 'Single', 'Resolution': [' 13 MP f/2.4 main camera', 'OIS, 8x Digital Zoom'], 'Flash': 'Dual LED Flash', 'Video': [' 3840x2160@30fps, 1920x1080@60fps'], 'Features': ['Auto Focus', 'Face detection', 'Geo tagging', 'High Dynamic Range mode (HDR)', 'Laser AF', 'Optical Image Stabilization Plus', 'Simultaneous HD video and image recording']}, 'Front Camera': {'Number of Cameras': 'Single', 'Resolution': '2.1 MP main camera', 'Flash': '', 'Video': ['1920x1080@30fps'], 'Features': [',']}, 'Battery': {'Capacity': '3000 mAh', 'Type': 'Li-Polymer', 'Wireless Charging': '', 'Fast Charging': 'Yes, Quick, v2.0'}, 'Security & Sensors': {'Fingerprint Sensor': 'NA', 'Sensors': ['Light sensor', 'Proximity sensor', 'Accelerometer', 'Compass', 'Gyroscope']}, 'Connectivity & Audio': {'Network': ['2G', '3G'], 'SIM 1 Bands': {'4G Bands': {'TD-LTE': ['/'], 'FD-LTE': ['/']}, '3G Bands': ['UMTS 1900 ', '2100 ', '850 ', '900 MHz'], '2G Bands': ['GSM 1800 ', '1900 ', '850 ', '900 MHz', '3G Speed HSDPA 42.2 Mbit/s ↓, HSUPA 21.1 Mbit/s ↑'], 'GPRS': ' Available', 'EDGE': ' Available'}, 'SIM card slots': 'Single SIM', 'SIM card type': 'Micro', 'Charging Port': 'microUSB 2.0', 'USB OTG': '', 'Wi-Fi': 'Wi-Fi 802.11, a/ac/b/g/n,  Direct, Mobile Hotspot', 'Wi-Fi Calling': '', 'Bluetooth': 'Bluetooth 4.1', 'NFC': 'Yes', 'GPS': 'Yes with A-GPS, Glonass', 'FM Radio': 'Yes', 'Loudspeaker': 'Yes', '3.5mm headphone jack': 'Yes'}}\n",
      "### Keys: ['Design and Display', 'Battery and Connectivity']\n",
      "'### Output': {'Design and Display': 'LG G Flex 2 comes with a 5.5 inch LCD capacitive touchscreen display with a resolution of 1080 x 1920 pixels and a pixel density of 401PPI. The display has a screen to body ratio of 67.5%. It has a screen to body ratio of 67.5%. It has a weight of 152 grams.', 'Battery and Connectivity': 'LG G Flex 2 is powered by a 3000mAh battery that provides up to 20 hours of talk time and up to 300 hours of standby time. It has a microUSB port, a 3G port, and a WiFi port. It has a fingerprint sensor, a proximity sensor, an accelerometer, a compass, a gyroscope, and a GPS.'}\n"
     ]
    }
   ],
   "source": [
    "print(dic[\"StructLM-7B-luis\"][0][\"Prediction\"])"
   ]
  },
  {
   "cell_type": "code",
   "execution_count": 23,
   "metadata": {},
   "outputs": [],
   "source": [
    "results = {\n",
    "    \"Prompt\": [],\n",
    "    \"Original\": [],\n",
    "    \"Prediction\": []\n",
    "}"
   ]
  },
  {
   "cell_type": "code",
   "execution_count": 11,
   "metadata": {},
   "outputs": [],
   "source": [
    "def format(val):\n",
    "    val = val.replace(\"':\", \"\\\":\")\n",
    "    val = val.replace(\"{'\", \"{\\\"\")\n",
    "    val = val.replace(\"',\", \"\\\",\")\n",
    "    val = val.replace(\"'}\", \"\\\"}\")\n",
    "    val = val.replace(\": '\", \": \\\"\")\n",
    "    val = val.replace(\", '\", \", \\\"\")\n",
    "    val = val.replace(\"}}\", \"}\")\n",
    "    val = val.replace(\"\\n}\", \"\")\n",
    "    val = val.replace(\"\\n\\n\", \"\\\",\\\"\")\n",
    "    val = val.replace(\"\\n\", \"\")\n",
    "    val = val.replace(\"\\\"t\", \"'t\")\n",
    "    val = val.replace(\"\\\"s\", \"'s\")\n",
    "    val = val.replace(\"\\\\\", \"/\")\n",
    "    val = re.sub(\"\\d+\\\" \", \"d'\", val)\n",
    "    return val"
   ]
  },
  {
   "cell_type": "code",
   "execution_count": 24,
   "metadata": {},
   "outputs": [
    {
     "name": "stdout",
     "output_type": "stream",
     "text": [
      "90 [12, 25, 49, 53, 65, 105, 171, 178, 196, 197, 199, 209, 217, 232, 261, 272, 289, 292, 296, 303, 329, 338, 339, 344, 353, 370, 393, 491, 501, 507, 514, 542, 574, 630, 674, 759, 782, 794, 808, 820, 841, 855, 937, 967, 983, 996, 1046, 1071, 1086, 1117, 1119, 1145, 1170, 1180, 1185, 1186, 1235, 1275, 1305, 1322, 1325, 1337, 1344, 1355, 1423, 1476, 1500, 1510, 1511, 1528, 1550, 1695, 1704, 1788, 1886, 1915, 1942, 1990, 2001, 2014, 2019, 2032, 2058, 2096, 2111, 2168, 2173, 2234, 2361, 2371]\n"
     ]
    }
   ],
   "source": [
    "ommited = []\n",
    "for i, t in enumerate(dic[\"StructLM-7B-luis\"]):\n",
    "    try:\n",
    "        val_p = t[\"Prediction\"].split(\"'### Output': \")[1].replace(\"\\\"\", \"'\")\n",
    "        val_p = \"{\\\"Overview\\\": \" + val_p if \"{\\\"\" not in val_p and \"{'\" not in val_p else val_p        \n",
    "        val_p = format(val_p)\n",
    "        val_p = val_p + \"\\\"}\" if \"\\\"}\" not in val_p else val_p\n",
    "\n",
    "        val = t[\"Original\"].replace(\"\\\"\", \"'\")\n",
    "        val = format(val)\n",
    "        results[\"Prediction\"].append(json.loads(val_p))\n",
    "        results[\"Original\"].append(json.loads(val))\n",
    "        results[\"Prompt\"].append(t[\"Prompt\"])\n",
    "\n",
    "    except:\n",
    "        ommited.append(i)\n",
    "\n",
    "print(len(ommited), ommited)"
   ]
  },
  {
   "cell_type": "code",
   "execution_count": 25,
   "metadata": {},
   "outputs": [
    {
     "name": "stdout",
     "output_type": "stream",
     "text": [
      "[12, 25, 49, 53, 65, 105, 171, 178, 196, 197, 199, 209, 217, 232, 261, 272, 289, 292, 296, 303, 329, 338, 339, 344, 353, 370, 393, 491, 501, 507, 514, 542, 574, 630, 674, 759, 782, 794, 808, 820, 841, 855, 937, 967, 983, 996, 1046, 1071, 1086, 1117, 1119, 1145, 1170, 1180, 1185, 1186, 1235, 1275, 1305, 1322, 1325, 1337, 1344, 1355, 1423, 1476, 1500, 1510, 1511, 1528, 1550, 1695, 1704, 1788, 1886, 1915, 1942, 1990, 2001, 2014, 2019, 2032, 2058, 2096, 2111, 2168, 2173, 2234, 2361, 2371] 90\n"
     ]
    }
   ],
   "source": [
    "print(ommited, len(ommited))"
   ]
  },
  {
   "cell_type": "code",
   "execution_count": 26,
   "metadata": {},
   "outputs": [
    {
     "name": "stdout",
     "output_type": "stream",
     "text": [
      "2309 2309 2309\n"
     ]
    }
   ],
   "source": [
    "print(len(results[\"Original\"]),len(results[\"Prompt\"]),len(results[\"Prediction\"]))"
   ]
  },
  {
   "cell_type": "code",
   "execution_count": 27,
   "metadata": {},
   "outputs": [],
   "source": [
    "with open('Outputs/StructLm-7B/StructLm-7B.json', 'w') as f:\n",
    "    json.dump(results, f, indent=4)"
   ]
  }
 ],
 "metadata": {
  "kernelspec": {
   "display_name": "Python 3",
   "language": "python",
   "name": "python3"
  },
  "language_info": {
   "codemirror_mode": {
    "name": "ipython",
    "version": 3
   },
   "file_extension": ".py",
   "mimetype": "text/x-python",
   "name": "python",
   "nbconvert_exporter": "python",
   "pygments_lexer": "ipython3",
   "version": "3.10.12"
  }
 },
 "nbformat": 4,
 "nbformat_minor": 2
}
