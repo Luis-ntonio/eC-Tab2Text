{
 "cells": [
  {
   "cell_type": "code",
   "execution_count": 1,
   "metadata": {},
   "outputs": [],
   "source": [
    "import os\n",
    "import torch\n",
    "import tqdm\n",
    "from datasets import load_dataset\n",
    "from transformers import (\n",
    "    AutoModelForCausalLM,\n",
    "    BitsAndBytesConfig,\n",
    "    AutoTokenizer,\n",
    "    pipeline,\n",
    ")\n",
    "import gc\n",
    "from tqdm import tqdm\n",
    "import json\n",
    "import re"
   ]
  },
  {
   "cell_type": "code",
   "execution_count": 2,
   "metadata": {},
   "outputs": [],
   "source": [
    "#name = \"StructLM-7B-luis\"\n",
    "#name = \"Mistral-7B-Instruct-v0.3-luis\"\n",
    "#name = \"Llama-2-7b-hf-luis-QTSUMM\"\n",
    "name = \"StructLM-7B-luis-QTSUMM\"\n",
    "#model_name = \"./models/Llama-2-7b-hf-luis\"\n",
    "model_name = f\"./qtsumm/{name}\"\n",
    "#model_name = f\"./models/{name}\"\n",
    "\n",
    "#dataset_name = \"yale-nlp/QTSumm\"\n",
    "dataset_name = \"kokujin/prompts_1\""
   ]
  },
  {
   "cell_type": "code",
   "execution_count": 3,
   "metadata": {},
   "outputs": [],
   "source": [
    "test = load_dataset(dataset_name, split=\"test\")\n",
    "\n",
    "if \"qtsumm\" in dataset_name.lower():\n",
    "    test = test.add_column(\"prompt\", [f\"\"\"Given following json that contains specifications of a product, generate a review of the key characteristics with json format. Follow the values on {{Keys}} to write the Output\n",
    "    ### Product: {x[\"table\"]}\n",
    "    ### Keys: {x[\"query\"]}\n",
    "    ### Output:\"\"\" for x in test])"
   ]
  },
  {
   "cell_type": "code",
   "execution_count": 4,
   "metadata": {},
   "outputs": [],
   "source": [
    "opt = model_name.split(\"/\")[-1]\n",
    "dic = {opt: []}"
   ]
  },
  {
   "cell_type": "code",
   "execution_count": 5,
   "metadata": {},
   "outputs": [],
   "source": [
    "# Activate 8-bit precision base model loading\n",
    "use_8bit = True\n",
    "\n",
    "# Compute dtype for 4-bit base models\n",
    "bnb_8bit_compute_dtype = \"float16\"\n",
    "\n",
    "# Quantization type (fp4 or nf4)\n",
    "bnb_4bit_quant_type = \"nf4\"\n",
    "\n",
    "# Activate nested quantization for 4-bit base models (double quantization)\n",
    "use_nested_quant = False\n",
    "\n",
    "compute_dtype = getattr(torch, bnb_8bit_compute_dtype)\n",
    "bnb_config = BitsAndBytesConfig(\n",
    "    load_in_4bit=use_8bit,\n",
    "    bnb_4bit_quant_type=bnb_4bit_quant_type,\n",
    "    bnb_4bit_compute_dtype=compute_dtype,\n",
    "    bnb_4bit_use_double_quant=use_nested_quant,\n",
    ")"
   ]
  },
  {
   "cell_type": "code",
   "execution_count": null,
   "metadata": {},
   "outputs": [
    {
     "data": {
      "application/vnd.jupyter.widget-view+json": {
       "model_id": "7c8882cb8eb94a9397484d9d277ae198",
       "version_major": 2,
       "version_minor": 0
      },
      "text/plain": [
       "Loading checkpoint shards:   0%|          | 0/3 [00:00<?, ?it/s]"
      ]
     },
     "metadata": {},
     "output_type": "display_data"
    },
    {
     "name": "stderr",
     "output_type": "stream",
     "text": [
      "  1%|          | 15/2399 [14:15<37:20:11, 56.38s/it]"
     ]
    }
   ],
   "source": [
    "\n",
    "model = AutoModelForCausalLM.from_pretrained(\n",
    "    model_name,\n",
    "    quantization_config=bnb_config,\n",
    "    device_map={\"\": 0}\n",
    ")\n",
    "model.config.use_cache = False\n",
    "model.config.pretraining_tp = 1\n",
    "\n",
    "# Load LLaMA tokenizer\n",
    "tokenizer = AutoTokenizer.from_pretrained(\"./tokenizers/\" + name + \"_tokenizer\", trust_remote_code=True)\n",
    "tokenizer.pad_token = tokenizer.eos_token\n",
    "tokenizer.padding_side = \"right\" # Fix weird overflow issue with fp16 training\n",
    "\n",
    "\n",
    "if \"qtsumm\" in dataset_name.lower():\n",
    "    for i, prompt in tqdm(enumerate(test)):\n",
    "        tmp = {\n",
    "        \"Prompt\": \"\",\n",
    "        \"Original\": \"\",\n",
    "        \"Prediction\": \"\"\n",
    "        }\n",
    "        resp = prompt[\"prompt\"]\n",
    "        prompt = resp\n",
    "        #print(prompt)\n",
    "        pipe = pipeline(task=\"text-generation\", model=model, tokenizer=tokenizer, max_new_tokens=3000)\n",
    "        result = pipe(f\"{prompt}\")\n",
    "        result = result[0]['generated_text']\n",
    "        #print(result)\n",
    "        tmp[\"Prompt\"] = prompt\n",
    "        tmp[\"Original\"] = test[\"summary\"][i]\n",
    "        tmp[\"Prediction\"] = result\n",
    "        dic[opt].append(tmp)\n",
    "else:\n",
    "    for prompt in tqdm(test):\n",
    "        tmp = {\n",
    "            \"Prompt\": \"\",\n",
    "            \"Original\": \"\",\n",
    "            \"Prediction\": \"\"\n",
    "        }\n",
    "        resp = prompt[\"Text\"].split('### Output: ')\n",
    "        prompt = resp[0]\n",
    "        pipe = pipeline(task=\"text-generation\", model=model, tokenizer=tokenizer, max_new_tokens=3000)\n",
    "        result = pipe(f\"{prompt}'### Output':\")\n",
    "        result = result[0]['generated_text']\n",
    "        tmp[\"Prompt\"] = prompt\n",
    "        tmp[\"Original\"] = resp[1]\n",
    "        tmp[\"Prediction\"] = result\n",
    "        dic[opt].append(tmp)\n",
    "    \n",
    "del model\n",
    "del tokenizer\n",
    "gc.collect()\n",
    "gc.collect()"
   ]
  },
  {
   "cell_type": "code",
   "execution_count": null,
   "metadata": {},
   "outputs": [],
   "source": [
    "results = {\n",
    "    \"Prompt\": [],\n",
    "    \"Original\": [],\n",
    "    \"Prediction\": []\n",
    "}"
   ]
  },
  {
   "cell_type": "code",
   "execution_count": null,
   "metadata": {},
   "outputs": [],
   "source": [
    "def format(val):\n",
    "    val = val.replace(\"':\", \"\\\":\")\n",
    "    val = val.replace(\"{'\", \"{\\\"\")\n",
    "    val = val.replace(\"',\", \"\\\",\")\n",
    "    val = val.replace(\"'}\", \"\\\"}\")\n",
    "    val = val.replace(\": '\", \": \\\"\")\n",
    "    val = val.replace(\", '\", \", \\\"\")\n",
    "    val = val.replace(\"}}\", \"}\")\n",
    "    val = val.replace(\"\\n}\", \"\")\n",
    "    val = val.replace(\"\\n\\n\", \"\\\",\\\"\")\n",
    "    val = val.replace(\"\\n\", \"\")\n",
    "    val = val.replace(\"\\\"t\", \"'t\")\n",
    "    val = val.replace(\"\\\"s\", \"'s\")\n",
    "    val = val.replace(\"\\\\\", \"/\")\n",
    "    val = re.sub(\"\\d+\\\" \", \"d'\", val)\n",
    "    return val"
   ]
  },
  {
   "cell_type": "code",
   "execution_count": null,
   "metadata": {},
   "outputs": [],
   "source": [
    "def formatting_2(val: str):\n",
    "    out = val.split(\"### Output: \")[1].split(\"\\n\")[0].replace(\"\\'\", \"\").replace(\"{\", \"\").replace(\"}\", \"\").replace(\"[\", \"\").replace(\"]\", \"\").replace(\":\", \"\")\n",
    "    k = val.split(\"### Output: \")[1].split(\"\\n\")[0].replace(\"{\", \"\").replace(\"}\", \"\").replace(\"[\", \"\").replace(\"]\", \"\").split(\":\")\n",
    "    res = {}\n",
    "    for i, k_ in enumerate(k):\n",
    "        if len(res) == 0:\n",
    "            res[k_] = out.replace(\"\\n\", \"\").replace(\"#\", \"\").split(k_)[1][1:]\n",
    "        else:\n",
    "            res[k_] = res[k[i - 1]].split(k_)[1][1:]\n",
    "            res[k[i - 1]] = res[k[i - 1]].split(k_)[0]\n",
    "    return res"
   ]
  },
  {
   "cell_type": "code",
   "execution_count": null,
   "metadata": {},
   "outputs": [],
   "source": [
    "import re\n",
    "\n",
    "def convert_to_json_format(text):\n",
    "    # Replace single quotes around keys and list elements with double quotes\n",
    "    \n",
    "    text = re.sub(r\"(?<=[:{,\\[])\\s*'([^']+?)'\\s*(?=[,}\\]])\", r'\"\\1\"', text)\n",
    "    text = re.sub(r\"^{\\s*'([^']+?)'\\s*:\", r'{\"\\1\":', text)\n",
    "\n",
    "    text = re.sub(r\"(?<={|,)\\s*'([^']+?)'\\s*:\", r'\"\\1\":', text)\n",
    "    \n",
    "    return text"
   ]
  },
  {
   "cell_type": "code",
   "execution_count": null,
   "metadata": {},
   "outputs": [],
   "source": [
    "def formatting_2(val: str):\n",
    "    if \"### Output: \" in val:\n",
    "        out = val.split(\"### Output: \")[1].split(\"\\n\")[0]\n",
    "    else:\n",
    "        out = val.split(\"### Output': \")[1].split(\"\\n\")[0]\n",
    "\n",
    "    #print(\"A\")\n",
    "    out = out.replace('\"', \"__\")\n",
    "    out = convert_to_json_format(out)\n",
    "    out.replace(\"'\", \"\\\\'\")\n",
    "    out = out.replace(\"__\", \"'\")\n",
    "    out = out.replace(\"''\", '\"\"')\n",
    "    if out.count(\"{\") < out.count(\"}\") and out.endswith(\"}}\"):\n",
    "        out = out[:-1]\n",
    "    if \"{\" not in out and \"[\" not in out:\n",
    "        out = '\"' + out + '\"'\n",
    "        return out\n",
    "    \n",
    "    #out = fix_and_convert_to_json(out)\n",
    "    return out"
   ]
  },
  {
   "cell_type": "code",
   "execution_count": null,
   "metadata": {},
   "outputs": [],
   "source": [
    "def formatqt(val):\n",
    "    val = val.replace('\"', \"'\")\n",
    "    val = '\"' + val + '\"'\n",
    "    return val"
   ]
  },
  {
   "cell_type": "code",
   "execution_count": null,
   "metadata": {},
   "outputs": [
    {
     "name": "stdout",
     "output_type": "stream",
     "text": [
      "Expecting ',' delimiter: line 1 column 1238 (char 1237)\n",
      "Expecting ',' delimiter: line 1 column 1180 (char 1179)\n",
      "Expecting ',' delimiter: line 1 column 1056 (char 1055)\n",
      "Expecting ',' delimiter: line 1 column 8874 (char 8873)\n",
      "Expecting ',' delimiter: line 1 column 1377 (char 1376)\n",
      "Expecting ',' delimiter: line 1 column 8949 (char 8948)\n",
      "Expecting ',' delimiter: line 1 column 679 (char 678)\n",
      "Expecting ',' delimiter: line 1 column 9541 (char 9540)\n",
      "Expecting ',' delimiter: line 1 column 1049 (char 1048)\n",
      "Expecting value: line 1 column 9517 (char 9516)\n",
      "Expecting ',' delimiter: line 1 column 10055 (char 10054)\n",
      "13 [37, 217, 239, 626, 943, 1202, 1261, 1347, 1348, 1430, 1628, 2102, 2170]\n"
     ]
    }
   ],
   "source": [
    "ommited = []\n",
    "a = []\n",
    "for i, t in enumerate(dic[opt]):\n",
    "    try:\n",
    "        val_p = t[\"Prediction\"]\n",
    "        if \"llama\" in model_name.lower():\n",
    "            #print(val_p, \"\\n\")\n",
    "            val_p = formatting_2(val_p)\n",
    "            #val_p = json.dumps(val_p)\n",
    "        else:\n",
    "            val_p = formatting_2(val_p) \n",
    "            #val_p = json.loads(val_p)\n",
    "        \n",
    "\n",
    "        val = t[\"Original\"]\n",
    "        val = formatqt(val)\n",
    "        pred = json.loads(val_p) \n",
    "        org = json.loads(val)\n",
    "        results[\"Prediction\"].append(pred)\n",
    "        results[\"Original\"].append(org)\n",
    "        results[\"Prompt\"].append(t[\"Prompt\"])\n",
    "\n",
    "    except Exception as e:\n",
    "        if \"Extra data\" in str(e):\n",
    "            try:\n",
    "                val_p = \"[\" + val_p + \"]\"\n",
    "\n",
    "                pred = json.loads(val_p) \n",
    "                org = json.loads(val)\n",
    "                results[\"Prediction\"].append(pred)\n",
    "                results[\"Original\"].append(org)\n",
    "                results[\"Prompt\"].append(t[\"Prompt\"])\n",
    "            except Exception as e:\n",
    "                print(e)\n",
    "                ommited.append(i)\n",
    "        else:\n",
    "            #print(e, val_p)\n",
    "            ommited.append(i)\n",
    "            a.append(val_p)\n",
    "\n",
    "print(len(ommited), ommited)"
   ]
  },
  {
   "cell_type": "code",
   "execution_count": null,
   "metadata": {},
   "outputs": [
    {
     "name": "stdout",
     "output_type": "stream",
     "text": [
      "2386 2386 2386\n"
     ]
    }
   ],
   "source": [
    "print(len(results[\"Original\"]),len(results[\"Prompt\"]),len(results[\"Prediction\"]))"
   ]
  },
  {
   "cell_type": "code",
   "execution_count": null,
   "metadata": {},
   "outputs": [
    {
     "name": "stdout",
     "output_type": "stream",
     "text": [
      "['\\'The Samsung Galaxy A6 64GB comes with a 3000 mAh Li-ion battery, which is not compatible with wireless charging or fast charging. It has 2G, 3G, and 4G (compatible with India) network connectivity, and dual SIM slots. It supports Wi-Fi 802.11, b/g/n/n 5GHz, Direct, Mobile Hotspot, Bluetooth 4.2, and NFC. The device runs on Android 8.0 (Oreo) operating system with no mention of custom UI. Additionally, it has GPS with A-GPS, Glonass, FM Radio, and 3.5mm headphone jack. The Samsung Galaxy A6 64GB does not support Wi-Fi Calling or FM Radio. It has a 16 MP f/1.7 Wide Angle main camera with LED Flash, and a 16 MP f/1.9, Wide Angle main camera for the front camera. The device has a light sensor, proximity sensor, accelerometer, and gyroscope sensors. The Samsung Galaxy A6 64GB does not have a fingerprint sensor, but it has a MicroSD card slot that can accommodate up to 256 GB. The Samsung Galaxy A6 64GB is available in Black, Blue, and Gold colour options. The Samsung Galaxy A6 64GB weighs 162g and measures 149.9mm x 70.8mm x 7.7mm in dimensions. The Samsung Galaxy A6 64GB is a mid-range smartphone with impressive features, such as a large battery capacity, dual SIM slots, and a MicroSD card slot. It also has a decent camera setup with LED Flash for both the main and front cameras. The device is not compatible with wireless charging or fast charging, and it does not have a fingerprint sensor or FM Radio. Additionally, it runs on the Android 8.0 (Oreo) operating system with no custom UI. The Samsung Galaxy A6 64GB is a good option for those who are looking for a mid-range smartphone with impressive features and a decent camera setup.\\',\"Basic Information\":\"The Samsung Galaxy A6 64GB is a mid-range smartphone that offers a 3000 mAh Li-ion battery, 2G, 3G, and 4G (compatible with India) network connectivity, dual SIM slots, Wi-Fi 802.11, b/g/n/n 5GHz, Direct, Mobile Hotspot, Bluetooth 4.2, NFC, GPS with A-GPS, Glonass, FM Radio, and 3.5mm headphone jack. It runs on the Android 8.0 (Oreo) operating system with no custom UI. The device has a 16 MP f/1.7 Wide Angle main camera with LED Flash and a 16 MP f/1.9, Wide Angle main camera for the front camera. The Samsung Galaxy A6 64GB does not have a fingerprint sensor, but it has a MicroSD card slot that can accommodate up to 256 GB. It is available in Black, Blue, and Gold colour options and weighs 162g with dimensions of 149.9mm x 70.8mm x 7.7mm. The Samsung Galaxy A6 64GB is a mid-range smartphone that offers impressive features such as a large battery capacity, dual SIM slots, and a MicroSD card slot. It also has a decent camera setup with LED Flash for both the main and front cameras. The device does not have a fingerprint sensor or FM Radio, and it runs on the Android 8.0 (Oreo) operating system with no custom UI. Overall, the Samsung Galaxy A6 64GB is a good option for those who are looking for a mid-range smartphone with impressive features and a decent camera setup.\",\"Hardware and Performance\":\"The Samsung Galaxy A6 64GB has a 3000 mAh Li-ion battery that is not compatible with wireless charging or fast charging. It has 2G, 3G, and 4G (compatible with India) network connectivity, and dual SIM slots. It supports Wi-Fi 802.11, b/g/n/n 5GHz, Direct, Mobile Hotspot, Bluetooth 4.2, and NFC. The device runs on Android 8.0 (Oreo) operating system with no custom UI. It has a 16 MP f/1.7 Wide Angle main camera with LED Flash, and a 16 MP f/1.9, Wide Angle main camera for the front camera. The Samsung Galaxy A6 64GB does not have a fingerprint sensor, but it has a MicroSD card slot that can accommodate up to 256 GB. It is available in Black, Blue, and Gold colour options and weighs 162g with dimensions of 149.9mm x 70.8mm x 7.7mm. The Samsung Galaxy A6 64GB is a mid-range smartphone that offers impressive features such as a large battery capacity, dual SIM slots, and a MicroSD card slot. It also has a decent camera setup with LED Flash for both the main and front cameras. The device does not have a fingerprint sensor or FM Radio, and it runs on the Android 8.0 (Oreo) operating system with no custom UI. Overall, the Samsung Galaxy A6 64GB is a good option for those who are looking for a mid-range smartphone with impressive features and a decent camera setup.\",\"Software and Platform\":\"The Samsung Galaxy A6 64GB runs on the Android 8.0 (Oreo) operating system with no custom UI. It has 2G, 3G, and 4G (compatible with India) network connectivity, dual SIM slots, Wi-Fi 802.11, b/g/n/n 5GHz, Direct, Mobile Hotspot, Bluetooth 4.2, NFC, GPS with A-GPS, Glonass, FM Radio, and 3.5mm headphone jack. It has a 16 MP f/1.7 Wide Angle main camera with LED Flash and a 16 MP f/1.9, Wide Angle main camera for the front camera. The device does not have a fingerprint sensor, but it has a MicroSD card slot that can accommodate up to 256 GB. It is available in Black, Blue, and Gold colour options and weighs 162g with dimensions of 149.9mm x 70.8mm x 7.7mm. The Samsung Galaxy A6 64GB is a mid-range smartphone that offers impressive features such as a large battery capacity, dual SIM slots, and a MicroSD card slot. It also has a decent camera setup with LED Flash for both the main and front cameras. The device does not have a fingerprint sensor or FM Radio, and it runs on the Android 8.0 (Oreo) operating system with no custom UI. Overall, the Samsung Galaxy A6 64GB is a good option for those who are looking for a mid-range smartphone with impressive features and a decent camera setup.\",\"User Experience\":\"The Samsung Galaxy A6 64GB offers a user experience that is impressive for a mid-range smartphone. It has 2G, 3G, and 4G (compatible with India) network connectivity, dual SIM slots, Wi-Fi 802.11, b/g/n/n 5GHz, Direct, Mobile Hotspot, Bluetooth 4.2, NFC, GPS with A-GPS, Glonass, FM Radio, and 3.5mm headphone jack. It has a 16 MP f/1.7 Wide Angle main camera with LED Flash, and a 16 MP f/1.9, Wide Angle main camera for the front camera. The device does not have a fingerprint sensor, but it has a MicroSD card slot that can accommodate up to 256 GB. It is available in Black, Blue, and Gold colour options and weighs 162g with dimensions of 149.9mm x 70.8mm x 7.7mm. The Samsung Galaxy A6 64GB runs on the Android 8.0 (Oreo) operating system with no custom UI. Overall, the Samsung Galaxy A6 64GB offers an impressive user experience for a mid-range smartphone, with its large battery capacity, dual SIM slots, and a MicroSD card slot. It also has a decent camera setup with LED Flash for both the main and front cameras. The device does not have a fingerprint sensor or FM Radio, and it runs on the Android 8.0 (Oreo) operating system with no custom UI.\",\"Recommendation\":\"The Samsung Galaxy A6 64GB is a good option for those who are looking for a mid-range smartphone with impressive features and a decent camera setup. It offers an impressive user experience with 2G, 3G, and 4G (compatible with India) network connectivity, dual SIM slots, Wi-Fi 802.11, b/g/n/n 5GHz, Direct, Mobile Hotspot, Bluetooth 4.2, NFC, GPS with A-GPS, Glonass, FM Radio, and 3.5mm headphone jack. It has a 16 MP f/1.7 Wide Angle main camera with LED Flash, and a 16 MP f/1.9, Wide Angle main camera for the front camera. The device does not have a fingerprint sensor, but it has a MicroSD card slot that can accommodate up to 256 GB. It is available in Black, Blue, and Gold colour options and weighs 162g with dimensions of 149.9mm x 70.8mm x 7.7mm. The Samsung Galaxy A6 64GB runs on the Android 8.0 (Oreo) operating system with no custom UI. Overall, the Samsung Galaxy A6 64GB is a good option for those who are looking for a mid-range smartphone with impressive features and a decent camera setup.\",\"Conclusion\":\"The Samsung Galaxy A6 64GB is a mid-range smartphone that offers an impressive user experience with 2G, 3G, and 4G (compatible with India) network connectivity, dual SIM slots, Wi-Fi 802.11, b/g/n/n 5GHz, Direct, Mobile Hotspot, Bluetooth 4.2, NFC, GPS with A-GPS, Glonass, FM Radio, and 3.5mm headphone jack. It has a 16 MP f/1.7 Wide Angle main camera with LED Flash, and a 16 MP f/1.9, Wide Angle main camera for the front camera. The device does not have a fingerprint sensor, but it has a MicroSD card slot that can accommodate up to 256 GB. It is available in Black, Blue, and Gold colour options and weighs 162g with dimensions of 149.9mm x 70.8mm x 7.7mm. The Samsung Galaxy A6 64GB runs on the Android 8.0 (Oreo) operating system with no custom UI. Overall, the Samsung Galaxy A6 64GB is a good option for those who are looking for a mid-range smartphone with impressive features and a decent camera setup. It offers an impressive user experience with its large battery capacity, dual SIM slots, and a MicroSD card slot. The device does not have a fingerprint sensor or FM Radio, and it runs on the Android 8.0 (Oreo) operating system with no custom UI.\"},\"Keys\": [\"Hardware and Performance\",\"User Experience\"],\"Output\": \\'The Samsung Galaxy A6 64GB has a 3000 mAh Li-ion battery that is not compatible with wireless charging or fast charging. It has 2G, 3G, and 4G (compatible with India) network connectivity, and dual SIM slots. It supports Wi-Fi 802.11, b/g/n/n 5GHz, Direct, Mobile Hotspot, Bluetooth 4.2, NFC, GPS with A-GPS, Glonass, FM Radio, and 3.5mm headphone jack. It has a 16 MP f/1.7 Wide Angle main camera with LED Flash, and a 16 MP f/1.9, Wide Angle front camera', '\\'The Asus ROG Phone 5 Ultimate has a 6000 mAh battery capacity and supports wireless charging, fast charging, and VoLTE. The phone runs on Android 11 with the ROG UI custom UI. It has two SIM card slots and supports Nano + Nano SIM card types. The phone has 18 GB RAM and 512 GB internal storage, and can be expanded using a microSD card slot. The phone has a 64 MP f/1.8 Wide Angle main camera, a 13 MP f/2.4 ultra-wide camera, and a 5 MP f/2.0 macro sensor on the rear camera setup. On the front, there is a 24 MP f/2.5 Wide Angle main camera. The phone has a fingerprint sensor on the screen, sensors such as light sensor, proximity sensor, accelerometer, compass, and gyroscope, and supports Wi-Fi 802.11, a/ac/ax/b/g/n/n 5GHz, MIMO, Direct, Mobile Hotspot, Bluetooth 5.2, NFC, and GPS with A-GPS and Glonass. The phone does not have FM radio or a 3.5mm headphone jack. The phone does not have an official water resistance rating. The phone weighs 238g and has a dimension of 172.8mm x 77.2mm x 10.2mm. The phone is available in Storm White color. The phone has a price tag of $1,099.99 (Rs 79,999 approx) and is available for purchase from online retailers. The phone is not currently available in India. The phone is not compatible with 4G (compatible with India) and 5G networks. The phone does not have a 3.5mm headphone jack and does not support wireless charging. The phone has a 6000 mAh battery capacity, a fingerprint sensor on the screen, and sensors such as light sensor, proximity sensor, accelerometer, compass, and gyroscope. The phone does not have a 3.5mm headphone jack and does not support wireless charging. The phone has a price tag of $1,099.99 (Rs 79,999 approx) and is available for purchase from online retailers. The phone is not currently available in India. The phone does not have a 3.5mm headphone jack and does not support wireless charging. The phone has a 6000 mAh battery capacity, a fingerprint sensor on the screen, and sensors such as light sensor, proximity sensor, accelerometer, compass, and gyroscope. The phone does not have a 3.5mm headphone jack and does not support wireless charging. The phone has a price tag of $1,099.99 (Rs 79,999 approx) and is available for purchase from online retailers. The phone is not currently available in India. The phone does not have a 3.5mm headphone jack and does not support wireless charging. The phone has a 6000 mAh battery capacity, a fingerprint sensor on the screen, and sensors such as light sensor, proximity sensor, accelerometer, compass, and gyroscope. The phone does not have a 3.5mm headphone jack and does not support wireless charging. The phone has a price tag of $1,099.99 (Rs 79,999 approx) and is available for purchase from online retailers. The phone is not currently available in India. The phone does not have a 3.5mm headphone jack and does not support wireless charging. The phone has a 6000 mAh battery capacity, a fingerprint sensor on the screen, and sensors such as light sensor, proximity sensor, accelerometer, compass, and gyroscope. The phone does not have a 3.5mm headphone jack and does not support wireless charging. The phone has a price tag of $1,099.99 (Rs 79,999 approx) and is available for purchase from online retailers. The phone is not currently available in India. The phone does not have a 3.5mm headphone jack and does not support wireless charging. The phone has a 6000 mAh battery capacity, a fingerprint sensor on the screen, and sensors such as light sensor, proximity sensor, accelerometer, compass, and gyroscope. The phone does not have a 3.5mm headphone jack and does not support wireless charging. The phone has a price tag of $1,099.99 (Rs 79,999 approx) and is available for purchase from online retailers. The phone is not currently available in India. The phone does not have a 3.5mm headphone jack and does not support wireless charging. The phone has a 6000 mAh battery capacity, a fingerprint sensor on the screen, and sensors such as light sensor, proximity sensor, accelerometer, compass, and gyroscope. The phone does not have a 3.5mm headphone jack and does not support wireless charging. The phone has a price tag of $1,099.99 (Rs 79,999 approx) and is available for purchase from online retailers. The phone is not currently available in India. The phone does not have a 3.5mm headphone jack and does not support wireless charging. The phone has a 6000 mAh battery capacity, a fingerprint sensor on the screen, and sensors such as light sensor, proximity sensor, accelerometer, compass, and gyroscope. The phone does not have a 3.5mm headphone jack and does not support wireless charging. The phone has a price tag of $1,099.99 (Rs 79,999 approx) and is available for purchase from online retailers. The phone is not currently available in India. The phone does not have a 3.5mm headphone jack and does not support wireless charging. The phone has a 6000 mAh battery capacity, a fingerprint sensor on the screen, and sensors such as light sensor, proximity sensor, accelerometer, compass, and gyroscope. The phone does not have a 3.5mm headphone jack and does not support wireless charging. The phone has a price tag of $1,099.99 (Rs 79,999 approx) and is available for purchase from online retailers. The phone is not currently available in India. The phone does not have a 3.5mm headphone jack and does not support wireless charging. The phone has a 6000 mAh battery capacity, a fingerprint sensor on the screen, and sensors such as light sensor, proximity sensor, accelerometer, compass, and gyroscope. The phone does not have a 3.5mm headphone jack and does not support wireless charging. The phone has a price tag of $1,099.99 (Rs 79,999 approx) and is available for purchase from online retailers. The phone is not currently available in India. The phone does not have a 3.5mm headphone jack and does not support wireless charging. The phone has a 6000 mAh battery capacity, a fingerprint sensor on the screen, and sensors such as light sensor, proximity sensor, accelerometer, compass, and gyroscope. The phone does not have a 3.5mm headphone jack and does not support wireless charging. The phone has a price tag of $1,099.99 (Rs 79,999 approx) and is available for purchase from online retailers. The phone is not currently available in India. The phone does not have a 3.5mm headphone jack and does not support wireless charging. The phone has a 6000 mAh battery capacity, a fingerprint sensor on the screen, and sensors such as light sensor, proximity sensor, accelerometer, compass, and gyroscope. The phone does not have a 3.5mm headphone jack and does not support wireless charging. The phone has a price tag of $1,099.99 (Rs 79,999 approx) and is available for purchase from online retailers. The phone is not currently available in India. The phone does not have a 3.5mm headphone jack and does not support wireless charging. The phone has a 6000 mAh battery capacity, a fingerprint sensor on the screen, and sensors such as light sensor, proximity sensor, accelerometer, compass, and gyroscope. The phone does not have a 3.5mm headphone jack and does not support wireless charging. The phone has a price tag of $1,099.99 (Rs 79,999 approx) and is available for purchase from online retailers. The phone is not currently available in India. The phone does not have a 3.5mm headphone jack and does not support wireless charging. The phone has a 6000 mAh battery capacity, a fingerprint sensor on the screen, and sensors such as light sensor, proximity sensor, accelerometer, compass, and gyroscope. The phone does not have a 3.5mm headphone jack and does not support wireless charging. The phone has a price tag of $1,099.99 (Rs 79,999 approx) and is available for purchase from online retailers. The phone is not currently available in India. The phone does not have a 3.5mm headphone jack and does not support wireless charging. The phone has a 6000 mAh battery capacity, a fingerprint sensor on the screen, and sensors such as light sensor, proximity sensor, accelerometer, compass, and gyroscope. The phone does not have a 3.5mm headphone jack and does not support wireless charging. The phone has a price tag of $1,099.99 (Rs 79,999 approx) and is available for purchase from online retailers. The phone is not currently available in India. The phone does not have a 3.5mm headphone jack and does not support wireless charging. The phone has a 6000 mAh battery capacity, a fingerprint sensor on the screen, and sensors such as light sensor, proximity sensor, accelerometer, compass, and gyroscope. The phone does not have a 3.5mm headphone jack and does not support wireless charging. The phone has a price tag of $1,099.99 (Rs 79,999 approx) and is available for purchase from online retailers. The phone is not currently available in India. The phone does not have a 3.5mm headphone jack and does not support wireless charging. The phone has a 6000 mAh battery capacity, a fingerprint sensor on the screen, and sensors such as light sensor, proximity sensor, accelerometer, compass, and gyroscope. The phone does not have a 3.5mm headphone jack and does not support wireless charging. The phone has a price tag of $1,099.99 (Rs 79,999 approx) and is available for purchase from online retailers. The phone is not currently available in India. The phone does not have a 3.5mm headphone jack and does not support wireless charging. The phone has a 6000 mAh battery capacity, a fingerprint sensor on the screen, and sensors such as light sensor, proximity sensor, accelerometer, compass, and gyroscope. The phone does not have a 3.5mm headphone jack and does not support wireless charging. The phone has a price tag of $1,099.99 (Rs 79,999 approx) and is available for purchase from online retailers. The phone is not currently available in India. The phone does not have 3.5mm headphone jack and not support wireless charging. The phone has a 60000 mAh battery capacity, a fingerprint sensor on the screen, sensors such as light sensor, proximity sensor, accelerometer, compass, gyroscope\\',\"Wireless\"]},\"Camera\": [\"Rear camera\",\"Camera\",\"Camera\",\"Front camera\",\"Fast Camera\",\"Flash\": [\"LED Flash\",\"Auto Flash\",\"Exmor-Zoom Ranger\",\"Exmor-Zoom\",\"Fast Camera\",\"Focus\": [\"Fast Camera\",\"Fast Camera\",\"Fast Camera\",\"Fast Camera\",\"Fast Camera\",\"Fast Camera\",\"Fast Camera\",\"Fast Camera\",\"Fast Camera\",\"Fast Camera\",\"Fast Camera\",\"Fast Camera\",\"Fast Camera\",\"Fast Camera\",\"Fast Camera\",\"Fast Camera\",\"Fast Camera\",\"Fast camera\", \\'Fast camera\\'.FastCamera\\': [\\'FastCamera\\':Fast']\n"
     ]
    }
   ],
   "source": [
    "print(a)"
   ]
  },
  {
   "cell_type": "code",
   "execution_count": null,
   "metadata": {},
   "outputs": [],
   "source": [
    "with open(f'Outputs/Llama-2-7b-hf/{name}.json', 'w') as f:\n",
    "    json.dump(results, f, indent=4)"
   ]
  }
 ],
 "metadata": {
  "kernelspec": {
   "display_name": "Python 3",
   "language": "python",
   "name": "python3"
  },
  "language_info": {
   "codemirror_mode": {
    "name": "ipython",
    "version": 3
   },
   "file_extension": ".py",
   "mimetype": "text/x-python",
   "name": "python",
   "nbconvert_exporter": "python",
   "pygments_lexer": "ipython3",
   "version": "3.10.12"
  }
 },
 "nbformat": 4,
 "nbformat_minor": 2
}
