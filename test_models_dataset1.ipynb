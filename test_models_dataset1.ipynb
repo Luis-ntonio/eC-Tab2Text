{
 "cells": [
  {
   "cell_type": "code",
   "execution_count": 1,
   "metadata": {},
   "outputs": [],
   "source": [
    "import os\n",
    "import torch\n",
    "import tqdm\n",
    "from datasets import load_dataset\n",
    "from transformers import (\n",
    "    AutoModelForCausalLM,\n",
    "    BitsAndBytesConfig,\n",
    "    AutoTokenizer,\n",
    "    pipeline,\n",
    ")\n",
    "import gc\n",
    "from tqdm import tqdm\n",
    "import json\n",
    "import re"
   ]
  },
  {
   "cell_type": "code",
   "execution_count": 2,
   "metadata": {},
   "outputs": [],
   "source": [
    "#name = \"StructLM-7B-luis\"\n",
    "#name = \"Mistral-7B-Instruct-v0.3-luis\"\n",
    "#name = \"Llama-2-7b-hf-luis-QTSUMM\"\n",
    "#name = \"StructLM-7B-luis-QTSUMM\"\n",
    "name = \"Mistral-7B-Instruct-v0.3-luis-QTSUMM\"\n",
    "#model_name = \"./models/Llama-2-7b-hf-luis\"\n",
    "model_name = f\"./qtsumm/{name}\"\n",
    "#model_name = f\"./models/{name}\"\n",
    "\n",
    "#dataset_name = \"yale-nlp/QTSumm\"\n",
    "dataset_name = \"kokujin/prompts_1\""
   ]
  },
  {
   "cell_type": "code",
   "execution_count": 3,
   "metadata": {},
   "outputs": [],
   "source": [
    "test = load_dataset(dataset_name, split=\"test\")\n",
    "\n",
    "if \"qtsumm\" in dataset_name.lower():\n",
    "    test = test.add_column(\"prompt\", [f\"\"\"Given following json that contains specifications of a product, generate a review of the key characteristics with json format. Follow the values on {{Keys}} to write the Output\n",
    "    ### Product: {x[\"table\"]}\n",
    "    ### Keys: {x[\"query\"]}\n",
    "    ### Output:\"\"\" for x in test])"
   ]
  },
  {
   "cell_type": "code",
   "execution_count": 4,
   "metadata": {},
   "outputs": [],
   "source": [
    "opt = model_name.split(\"/\")[-1]\n",
    "dic = {opt: []}"
   ]
  },
  {
   "cell_type": "code",
   "execution_count": 5,
   "metadata": {},
   "outputs": [],
   "source": [
    "# Activate 8-bit precision base model loading\n",
    "use_8bit = True\n",
    "\n",
    "# Compute dtype for 4-bit base models\n",
    "bnb_8bit_compute_dtype = \"float16\"\n",
    "\n",
    "# Quantization type (fp4 or nf4)\n",
    "bnb_4bit_quant_type = \"nf4\"\n",
    "\n",
    "# Activate nested quantization for 4-bit base models (double quantization)\n",
    "use_nested_quant = False\n",
    "\n",
    "compute_dtype = getattr(torch, bnb_8bit_compute_dtype)\n",
    "bnb_config = BitsAndBytesConfig(\n",
    "    load_in_4bit=use_8bit,\n",
    "    bnb_4bit_quant_type=bnb_4bit_quant_type,\n",
    "    bnb_4bit_compute_dtype=compute_dtype,\n",
    "    bnb_4bit_use_double_quant=use_nested_quant,\n",
    ")"
   ]
  },
  {
   "cell_type": "code",
   "execution_count": 6,
   "metadata": {},
   "outputs": [
    {
     "data": {
      "application/vnd.jupyter.widget-view+json": {
       "model_id": "ff083ea19181401eaee867cb36f8d520",
       "version_major": 2,
       "version_minor": 0
      },
      "text/plain": [
       "Loading checkpoint shards:   0%|          | 0/3 [00:00<?, ?it/s]"
      ]
     },
     "metadata": {},
     "output_type": "display_data"
    },
    {
     "name": "stderr",
     "output_type": "stream",
     "text": [
      "100%|██████████| 2399/2399 [17:44:42<00:00, 26.63s/it]   \n"
     ]
    },
    {
     "data": {
      "text/plain": [
       "0"
      ]
     },
     "execution_count": 6,
     "metadata": {},
     "output_type": "execute_result"
    }
   ],
   "source": [
    "\n",
    "model = AutoModelForCausalLM.from_pretrained(\n",
    "    model_name,\n",
    "    quantization_config=bnb_config,\n",
    "    device_map={\"\": 0}\n",
    ")\n",
    "model.config.use_cache = False\n",
    "model.config.pretraining_tp = 1\n",
    "\n",
    "# Load LLaMA tokenizer\n",
    "tokenizer = AutoTokenizer.from_pretrained(\"./tokenizers/\" + name + \"_tokenizer\", trust_remote_code=True)\n",
    "tokenizer.pad_token = tokenizer.eos_token\n",
    "tokenizer.padding_side = \"right\" # Fix weird overflow issue with fp16 training\n",
    "\n",
    "\n",
    "if \"qtsumm\" in dataset_name.lower():\n",
    "    for i, prompt in tqdm(enumerate(test)):\n",
    "        tmp = {\n",
    "        \"Prompt\": \"\",\n",
    "        \"Original\": \"\",\n",
    "        \"Prediction\": \"\"\n",
    "        }\n",
    "        resp = prompt[\"prompt\"]\n",
    "        prompt = resp\n",
    "        #print(prompt)\n",
    "        pipe = pipeline(task=\"text-generation\", model=model, tokenizer=tokenizer, max_new_tokens=3000)\n",
    "        result = pipe(f\"{prompt}\")\n",
    "        result = result[0]['generated_text']\n",
    "        #print(result)\n",
    "        tmp[\"Prompt\"] = prompt\n",
    "        tmp[\"Original\"] = test[\"summary\"][i]\n",
    "        tmp[\"Prediction\"] = result\n",
    "        dic[opt].append(tmp)\n",
    "else:\n",
    "    for prompt in tqdm(test):\n",
    "        tmp = {\n",
    "            \"Prompt\": \"\",\n",
    "            \"Original\": \"\",\n",
    "            \"Prediction\": \"\"\n",
    "        }\n",
    "        resp = prompt[\"Text\"].split('### Output: ')\n",
    "        prompt = resp[0]\n",
    "        pipe = pipeline(task=\"text-generation\", model=model, tokenizer=tokenizer, max_new_tokens=3000)\n",
    "        result = pipe(f\"{prompt}'### Output':\")\n",
    "        result = result[0]['generated_text']\n",
    "        tmp[\"Prompt\"] = prompt\n",
    "        tmp[\"Original\"] = resp[1]\n",
    "        tmp[\"Prediction\"] = result\n",
    "        dic[opt].append(tmp)\n",
    "    \n",
    "del model\n",
    "del tokenizer\n",
    "gc.collect()\n",
    "gc.collect()"
   ]
  },
  {
   "cell_type": "code",
   "execution_count": 7,
   "metadata": {},
   "outputs": [],
   "source": [
    "results = {\n",
    "    \"Prompt\": [],\n",
    "    \"Original\": [],\n",
    "    \"Prediction\": []\n",
    "}"
   ]
  },
  {
   "cell_type": "code",
   "execution_count": 8,
   "metadata": {},
   "outputs": [],
   "source": [
    "def format(val):\n",
    "    val = val.replace(\"':\", \"\\\":\")\n",
    "    val = val.replace(\"{'\", \"{\\\"\")\n",
    "    val = val.replace(\"',\", \"\\\",\")\n",
    "    val = val.replace(\"'}\", \"\\\"}\")\n",
    "    val = val.replace(\": '\", \": \\\"\")\n",
    "    val = val.replace(\", '\", \", \\\"\")\n",
    "    val = val.replace(\"}}\", \"}\")\n",
    "    val = val.replace(\"\\n}\", \"\")\n",
    "    val = val.replace(\"\\n\\n\", \"\\\",\\\"\")\n",
    "    val = val.replace(\"\\n\", \"\")\n",
    "    val = val.replace(\"\\\"t\", \"'t\")\n",
    "    val = val.replace(\"\\\"s\", \"'s\")\n",
    "    val = val.replace(\"\\\\\", \"/\")\n",
    "    val = re.sub(\"\\d+\\\" \", \"d'\", val)\n",
    "    return val"
   ]
  },
  {
   "cell_type": "code",
   "execution_count": 9,
   "metadata": {},
   "outputs": [],
   "source": [
    "def formatting_2(val: str):\n",
    "    out = val.split(\"### Output: \")[1].split(\"\\n\")[0].replace(\"\\'\", \"\").replace(\"{\", \"\").replace(\"}\", \"\").replace(\"[\", \"\").replace(\"]\", \"\").replace(\":\", \"\")\n",
    "    k = val.split(\"### Output: \")[1].split(\"\\n\")[0].replace(\"{\", \"\").replace(\"}\", \"\").replace(\"[\", \"\").replace(\"]\", \"\").split(\":\")\n",
    "    res = {}\n",
    "    for i, k_ in enumerate(k):\n",
    "        if len(res) == 0:\n",
    "            res[k_] = out.replace(\"\\n\", \"\").replace(\"#\", \"\").split(k_)[1][1:]\n",
    "        else:\n",
    "            res[k_] = res[k[i - 1]].split(k_)[1][1:]\n",
    "            res[k[i - 1]] = res[k[i - 1]].split(k_)[0]\n",
    "    return res"
   ]
  },
  {
   "cell_type": "code",
   "execution_count": 10,
   "metadata": {},
   "outputs": [],
   "source": [
    "import re\n",
    "\n",
    "def convert_to_json_format(text):\n",
    "    # Replace single quotes around keys and list elements with double quotes\n",
    "    \n",
    "    text = re.sub(r\"(?<=[:{,\\[])\\s*'([^']+?)'\\s*(?=[,}\\]])\", r'\"\\1\"', text)\n",
    "    text = re.sub(r\"^{\\s*'([^']+?)'\\s*:\", r'{\"\\1\":', text)\n",
    "\n",
    "    text = re.sub(r\"(?<={|,)\\s*'([^']+?)'\\s*:\", r'\"\\1\":', text)\n",
    "    \n",
    "    return text"
   ]
  },
  {
   "cell_type": "code",
   "execution_count": 11,
   "metadata": {},
   "outputs": [],
   "source": [
    "def formatting_2(val: str):\n",
    "    if \"### Output: \" in val:\n",
    "        out = val.split(\"### Output: \")[1].split(\"\\n\")[0]\n",
    "    else:\n",
    "        out = val.split(\"### Output': \")[1].split(\"\\n\")[0]\n",
    "\n",
    "    #print(\"A\")\n",
    "    out = out.replace('\"', \"__\")\n",
    "    out = convert_to_json_format(out)\n",
    "    out.replace(\"'\", \"\\\\'\")\n",
    "    out = out.replace(\"__\", \"'\")\n",
    "    out = out.replace(\"''\", '\"\"')\n",
    "    if out.count(\"{\") < out.count(\"}\") and out.endswith(\"}}\"):\n",
    "        out = out[:-1]\n",
    "    if \"{\" not in out and \"[\" not in out:\n",
    "        out = '\"' + out + '\"'\n",
    "        return out\n",
    "    \n",
    "    #out = fix_and_convert_to_json(out)\n",
    "    return out"
   ]
  },
  {
   "cell_type": "code",
   "execution_count": 12,
   "metadata": {},
   "outputs": [],
   "source": [
    "def formatqt(val):\n",
    "    val = val.replace('\"', \"'\")\n",
    "    val = '\"' + val + '\"'\n",
    "    return val"
   ]
  },
  {
   "cell_type": "code",
   "execution_count": 13,
   "metadata": {},
   "outputs": [
    {
     "name": "stdout",
     "output_type": "stream",
     "text": [
      "5 [241, 335, 803, 845, 1172]\n"
     ]
    }
   ],
   "source": [
    "ommited = []\n",
    "a = []\n",
    "for i, t in enumerate(dic[opt]):\n",
    "    try:\n",
    "        val_p = t[\"Prediction\"]\n",
    "        if \"llama\" in model_name.lower():\n",
    "            #print(val_p, \"\\n\")\n",
    "            val_p = formatting_2(val_p)\n",
    "            #val_p = json.dumps(val_p)\n",
    "        else:\n",
    "            val_p = formatting_2(val_p) \n",
    "            #val_p = json.loads(val_p)\n",
    "        \n",
    "\n",
    "        val = t[\"Original\"]\n",
    "        val = formatqt(val)\n",
    "        pred = json.loads(val_p) \n",
    "        org = json.loads(val)\n",
    "        results[\"Prediction\"].append(pred)\n",
    "        results[\"Original\"].append(org)\n",
    "        results[\"Prompt\"].append(t[\"Prompt\"])\n",
    "\n",
    "    except Exception as e:\n",
    "        if \"Extra data\" in str(e):\n",
    "            try:\n",
    "                val_p = \"[\" + val_p + \"]\"\n",
    "\n",
    "                pred = json.loads(val_p) \n",
    "                org = json.loads(val)\n",
    "                results[\"Prediction\"].append(pred)\n",
    "                results[\"Original\"].append(org)\n",
    "                results[\"Prompt\"].append(t[\"Prompt\"])\n",
    "            except Exception as e:\n",
    "                print(e)\n",
    "                ommited.append(i)\n",
    "        else:\n",
    "            #print(e, val_p)\n",
    "            ommited.append(i)\n",
    "            a.append(val_p)\n",
    "\n",
    "print(len(ommited), ommited)"
   ]
  },
  {
   "cell_type": "code",
   "execution_count": 14,
   "metadata": {},
   "outputs": [
    {
     "name": "stdout",
     "output_type": "stream",
     "text": [
      "2394 2394 2394\n"
     ]
    }
   ],
   "source": [
    "print(len(results[\"Original\"]),len(results[\"Prompt\"]),len(results[\"Prediction\"]))"
   ]
  },
  {
   "cell_type": "code",
   "execution_count": 15,
   "metadata": {},
   "outputs": [
    {
     "name": "stdout",
     "output_type": "stream",
     "text": [
      "['The LeEco Le 2 Pro 64GB smartphone has a 4K Video Recording (2160p) front camera with Autofocus and LED Flash. It also has a 3000mAh Lithium-ion (Li-ion) battery with Fast Charging. The phone has a 151.1 x 74.2 x 7.5 mm size and weighs 153 grams. It has a 64GB internal storage and a MicroSD Card Slot. The main camera has a resolution of [Resolution] and a flash. The phone also has a fingerprint sensor and various sensors. The LeEco Le 2 Pro 64GB is compatible with 4G, 3G, and 2G networks and has a 3.5mm headphone jack. It also has Wi-Fi, Bluetooth, GPS, FM Radio, and Loudspeaker. The phone is available in [Colour Options]. The LeEco Le 2 Pro 64GB is a high-end smartphone with a powerful camera and storage capabilities, as well as a long-lasting battery and various connectivity options.', 'The OPPO R9 is a smartphone that runs on the Android operating system with a custom UI. It has a 151.8 x 74.3 x 6.6 mm body and weighs 145 grams. The main camera has a resolution of [Resolution] and features [Features]. The front camera has a resolution of 4K Video Recording (2160p) and features Autofocus, Phase Detection Autofocus (PDAF), and LED Flash. The phone has 2850mAh battery with Lithium-Polymer (Li-Po) type and fast charging via VOOC Flash Charger mini. The OPPO R9 has a fingerprint sensor and various sensors including [Sensors]. The phone supports 4G, 3G, and 2G networks and has a 3.5mm headphone jack. It also has Wi-Fi, Bluetooth, GPS, and NFC connectivity options. The OPPO R9 has a microSD card slot and internal storage of [Internal Storage]. The phone has a USB OTG and FM Radio. The main camera has a resolution of [Resolution] and features [Features]. The front camera has a resolution of 4K Video Recording (2160p) and features Autofocus, Phase Detection Autofocus (PDAF), and LED Flash. The phone has a microSD card slot and internal storage of [Internal Storage]. The main camera has a resolution of [Resolution] and features [Features]. The front camera has a resolution of 4K Video Recording (2160p) and features Autofocus, Phase Detection Autofocus (PDAF), and LED Flash. The phone has a microSD card slot and internal storage of [Internal Storage]. The main camera has a resolution of [Resolution] and features [Features]. The front camera has a resolution of 4K Video Recording (2160p) and features Autofocus, Phase Detection Autofocus (PDAF), and LED Flash. The phone has a microSD card slot and internal storage of [Internal Storage]. The main camera has a resolution of [Resolution] and features [Features]. The front camera has a resolution of 4K Video Recording (2160p) and features Autofocus, Phase Detection Autofocus (PDAF), and LED Flash. The phone has a microSD card slot and internal storage of [Internal Storage]. The main camera has a resolution of [Resolution] and features [Features]. The front camera has a resolution of 4K Video Recording (2160p) and features Autofocus, Phase Detection Autofocus (PDAF), and LED Flash. The phone has a microSD card slot and internal storage of [Internal Storage]. The main camera has a resolution of [Resolution] and features [Features]. The front camera has a resolution of 4K Video Recording (2160p) and features Autofocus, Phase Detection Autofocus (PDAF), and LED Flash. The phone has a microSD card slot and internal storage of [Internal Storage]. The main camera has a resolution of [Resolution] and features [Features]. The front camera has a resolution of 4K Video Recording (2160p) and features Autofocus, Phase Detection Autofocus (PDAF), and LED Flash. The phone has a microSD card slot and internal storage of [Internal Storage]. The main camera has a resolution of [Resolution] and features [Features]. The front camera has a resolution of 4K Video Recording (2160p) and features Autofocus, Phase Detection Autofocus (PDAF), and LED Flash. The phone has a microSD card slot and internal storage of [Internal Storage]. The main camera has a resolution of [Resolution] and features [Features]. The front camera has a resolution of 4K Video Recording (2160p) and features Autofocus, Phase Detection Autofocus (PDAF), and LED Flash. The phone has a microSD card slot and internal storage of [Internal Storage]. The main camera has a resolution of [Resolution] and features [Features]. The front camera has a resolution of 4K Video Recording (2160p) and features Autofocus, Phase Detection Autofocus (PDAF), and LED Flash. The phone has a microSD card slot and internal storage of [Internal Storage]. The main camera has a resolution of [Resolution] and features [Features]. The front camera has a resolution of 4K Video Recording (2160p) and features Autofocus, Phase Detection Autofocus (PDAF), and LED Flash. The phone has a microSD card slot and internal storage of [Internal Storage]. The main camera has a resolution of [Resolution] and features [Features]. The front camera has a resolution of 4K Video Recording (2160p) and features Autofocus, Phase Detection Autofocus (PDAF), and LED Flash. The phone has a microSD card slot and internal storage of [Internal Storage]. The main camera has a resolution of [Resolution] and features [Features]. The front camera has a resolution of 4K Video Recording (2160p) and features Autofocus, Phase Detection Autofocus (PDAF), and LED Flash. The phone has a microSD card slot and internal storage of [Internal Storage]. The main camera has a resolution of [Resolution] and features [Features]. The front camera has a resolution of 4K Video Recording (2160p) and features Autofocus, Phase Detection Autofocus (PDAF), and LED Flash. The phone has a microSD card slot and internal storage of [Internal Storage]. The main camera has a resolution of [Resolution] and features [Features]. The front camera has a resolution of 4K Video Recording (2160p) and features Autofocus, Phase Detection Autofocus (PDAF), and LED Flash. The phone has a microSD card slot and internal storage of [Internal Storage]. The main camera has a resolution of [Resolution] and features [Features]. The front camera has a resolution of 4K Video Recording (2160p) and features Autofocus, Phase Detection Autofocus (PDAF), and LED Flash. The phone has a microSD card slot and internal storage of [Internal Storage]. The main camera has a resolution of [Resolution] and features [Features]. The front camera has a resolution of 4K Video Recording (2160p) and features Autofocus, Phase Detection Autofocus (PDAF), and LED Flash. The phone has a microSD card slot and internal storage of [Internal Storage]. The main camera has a resolution of [Resolution] and features [Features]. The front camera has a resolution of 4K Video Recording (2160p) and features Autofocus, Phase Detection Autofocus (PDAF), and LED Flash. The phone has a microSD card slot and internal storage of [Internal Storage]. The main camera has a resolution of [Resolution] and features [Features]. The front camera has a resolution of 4K Video Recording (2160p) and features Autofocus, Phase Detection Autofocus (PDAF), and LED Flash. The phone has a microSD card slot and internal storage of [Internal Storage]. The main camera has a resolution of [Resolution] and features [Features]. The front camera has a resolution of 4K Video Recording (2160p) and features Autofocus, Phase Detection Autofocus (PDAF), and LED Flash. The phone has a microSD card slot and internal storage of [Internal Storage]. The main camera has a resolution of [Resolution] and features [Features]. The front camera has a resolution of 4K Video Recording (2160p) and features Autofocus, Phase Detection Autofocus (PDAF), and LED Flash. The phone has a microSD card slot and internal storage of [Internal Storage]. The main camera has a resolution of [Resolution] and features [Features]. The front camera has a resolution of 4K Video Recording (2160p) and features Autofocus, Phase Detection Autofocus (PDAF), and LED Flash. The phone has a microSD card slot and internal storage of [Internal Storage]. The main camera has a resolution of [Resolution] and features [Features]. The front camera has a resolution of 4K Video Recording (2160p) and features Autofocus, Phase Detection Autofocus (PDAF), and LED Flash. The phone has a microSD card slot and internal storage of [Internal Storage]. The main camera has a resolution of [Resolution] and features [Features]. The front camera has a resolution of 4K Video Recording (2160p) and features Autofocus, Phase Detection Autofocus (PDAF), and LED Flash. The phone has a microSD card slot and internal storage of [Internal Storage]. The main camera has a resolution of [Resolution] and features [Features]. The front camera has a resolution of 4K Video Recording (2160p) and features Autofocus, Phase Detection Autofocus (PDAF), and LED Flash. The phone has a microSD card slot and internal storage of [Internal Storage]. The main camera has a resolution of [Resolution] and features [Features]. The front camera has a resolution of 4K Video Recording (2160p) and features Autofocus, Phase Detection Autofocus (PDAF), and LED Flash. The phone has a microSD card slot and internal storage of [Internal Storage]. The main camera has a resolution of [Resolution] and features [Features]. The front camera has a resolution of 4K Video Recording (2160p) and features Autofocus, Phase Detection Autofocus (PDAF), and LED Flash. The phone has a microSD card slot and internal storage of [Internal Storage]. The main camera has a resolution of [Resolution] and features [Features]. The front camera has a resolution of 4K Video Recording (2160p) and features Autofocus, Phase Detection Autofocus (PDAF), and LED Flash. The phone has a microSD card slot and internal storage of [Internal Storage]. The main camera has a resolution of [Resolution] and features [Features]. The front camera has a resolution of 4K Video Recording (2160p) and features Autofocus, Phase Detection Autofocus (PDAF), and LED Flash. The phone has a microSD card slot and internal storage of [Internal Storage]. The main camera has a resolution of [Resolution] and features [Features]. The front camera has a resolution of 4K Video Recording (2160p) and features Autofocus, Phase Detection Autofocus (PDAF), and LED Flash. The phone has a microSD card slot and internal storage of [Internal Storage]. The main camera has a resolution of [Resolution] and features [Features]. The front camera has a resolution of 4K Video Recording (2160p) and features Autofocus, Phase Detection Autofocus (PDAF), and LED Flash. The phone has a microSD card slot and internal storage of [Internal Storage]. The main camera has a resolution of [Resolution] and features [Features]. The front camera has a resolution of 4K Video Recording (2160p) and features Autofocus, Phase Detection Autofocus (PDAF), and LED Flash. The phone has a microSD card slot and internal storage of [Internal Storage]. The main camera has a resolution of [Resolution] and features [Features]. The front camera has a resolution of 4K Video Recording (2160p) and features Autofocus, Phase Detection Autofocus (PDAF), and LED Flash. The phone has a microSD card slot and internal storage of [Internal Storage]. The main camera has a resolution of [Resolution] and features [Features]. The front camera has a resolution of 4K Video Recording (2160p) and features Autofocus, Phase Detection Autofocus (PDAF), and LED Flash. The phone has a microSD card slot and internal storage of [Internal Storage]. The main camera has a resolution of [Resolution] and features [Features]. The front camera has a resolution of 4K Video Recording (2160p) and features Autofocus, Phase Detection Autofocus (PDAF), and LED Flash. The phone has a microSD card slot and internal storage of [Internal Storage]. The main camera has a resolution of [Resolution] and features [Features]. The front camera has a resolution of 4K Video Recording (2160p) and features Autofocus, Phase Detection Autofocus (PDAF), and LED Flash. The phone has a microSD card slot and internal storage of [Internal Storage]. The main camera has a resolution of [Resolution] and features [Features]. The front camera has a resolution of 4K Video Recording (2160p) and features Autofocus, Phase Detection Autofocus (PDAF), and LED Flash. The phone has a microSD card slot and internal storage of [Internal Storage]. The main camera has a resolution of [Resolution] and features [Features]. The front camera has a resolution of 4K Video Recording (2160p) and features Autofocus, Phase Detection Autofocus (PDAF), and LED Flash', 'The I KALL K480 has a single 8 MP main camera with LED Flash and a 5 MP front camera without flash. The main camera has digital zoom and features such as [,]. The front camera has [,] features. Both cameras are capable of recording videos. The main camera has a resolution of 8 MP and the front camera has a resolution of 5 MP. The main camera has a digital zoom feature and the front camera does not have a flash. Both cameras are capable of recording videos. The main camera has a resolution of 8 MP and the front camera has a resolution of 5 MP. The main camera has a digital zoom feature and the front camera does not have a flash. Both cameras are capable of recording videos. The main camera has a resolution of 8 MP and the front camera has a resolution of 5 MP. The main camera has a digital zoom feature and the front camera does not have a flash. Both cameras are capable of recording videos. The main camera has a resolution of 8 MP and the front camera has a resolution of 5 MP. The main camera has a digital zoom feature and the front camera does not have a flash. Both cameras are capable of recording videos. The main camera has a resolution of 8 MP and the front camera has a resolution of 5 MP. The main camera has a digital zoom feature and the front camera does not have a flash. Both cameras are capable of recording videos. The main camera has a resolution of 8 MP and the front camera has a resolution of 5 MP. The main camera has a digital zoom feature and the front camera does not have a flash. Both cameras are capable of recording videos. The main camera has a resolution of 8 MP and the front camera has a resolution of 5 MP. The main camera has a digital zoom feature and the front camera does not have a flash. Both cameras are capable of recording videos. The main camera has a resolution of 8 MP and the front camera has a resolution of 5 MP. The main camera has a digital zoom feature and the front camera does not have a flash. Both cameras are capable of recording videos. The main camera has a resolution of 8 MP and the front camera has a resolution of 5 MP. The main camera has a digital zoom feature and the front camera does not have a flash. Both cameras are capable of recording videos. The main camera has a resolution of 8 MP and the front camera has a resolution of 5 MP. The main camera has a digital zoom feature and the front camera does not have a flash. Both cameras are capable of recording videos. The main camera has a resolution of 8 MP and the front camera has a resolution of 5 MP. The main camera has a digital zoom feature and the front camera does not have a flash. Both cameras are capable of recording videos. The main camera has a resolution of 8 MP and the front camera has a resolution of 5 MP. The main camera has a digital zoom feature and the front camera does not have a flash. Both cameras are capable of recording videos. The main camera has a resolution of 8 MP and the front camera has a resolution of 5 MP. The main camera has a digital zoom feature and the front camera does not have a flash. Both cameras are capable of recording videos. The main camera has a resolution of 8 MP and the front camera has a resolution of 5 MP. The main camera has a digital zoom feature and the front camera does not have a flash. Both cameras are capable of recording videos. The main camera has a resolution of 8 MP and the front camera has a resolution of 5 MP. The main camera has a digital zoom feature and the front camera does not have a flash. Both cameras are capable of recording videos. The main camera has a resolution of 8 MP and the front camera has a resolution of 5 MP. The main camera has a digital zoom feature and the front camera does not have a flash. Both cameras are capable of recording videos. The main camera has a resolution of 8 MP and the front camera has a resolution of 5 MP. The main camera has a digital zoom feature and the front camera does not have a flash. Both cameras are capable of recording videos. The main camera has a resolution of 8 MP and the front camera has a resolution of 5 MP. The main camera has a digital zoom feature and the front camera does not have a flash. Both cameras are capable of recording videos. The main camera has a resolution of 8 MP and the front camera has a resolution of 5 MP. The main camera has a digital zoom feature and the front camera does not have a flash. Both cameras are capable of recording videos. The main camera has a resolution of 8 MP and the front camera has a resolution of 5 MP. The main camera has a digital zoom feature and the front camera does not have a flash. Both cameras are capable of recording videos. The main camera has a resolution of 8 MP and the front camera has a resolution of 5 MP. The main camera has a digital zoom feature and the front camera does not have a flash. Both cameras are capable of recording videos. The main camera has a resolution of 8 MP and the front camera has a resolution of 5 MP. The main camera has a digital zoom feature and the front camera does not have a flash. Both cameras are capable of recording videos. The main camera has a resolution of 8 MP and the front camera has a resolution of 5 MP. The main camera has a digital zoom feature and the front camera does not have a flash. Both cameras are capable of recording videos. The main camera has a resolution of 8 MP and the front camera has a resolution of 5 MP. The main camera has a digital zoom feature and the front camera does not have a flash. Both cameras are capable of recording videos. The main camera has a resolution of 8 MP and the front camera has a resolution of 5 MP. The main camera has a digital zoom feature and the front camera does not have a flash. Both cameras are capable of recording videos. The main camera has a resolution of 8 MP and the front camera has a resolution of 5 MP. The main camera has a digital zoom feature and the front camera does not have a flash. Both cameras are capable of recording videos. The main camera has a resolution of 8 MP and the front camera has a resolution of 5 MP. The main camera has a digital zoom feature and the front camera does not have a flash. Both cameras are capable of recording videos. The main camera has a resolution of 8 MP and the front camera has a resolution of 5 MP. The main camera has a digital zoom feature and the front camera does not have a flash. Both cameras are capable of recording videos. The main camera has a resolution of 8 MP and the front camera has a resolution of 5 MP. The main camera has a digital zoom feature and the front camera does not have a flash. Both cameras are capable of recording videos. The main camera has a resolution of 8 MP and the front camera has a resolution of 5 MP. The main camera has a digital zoom feature and the front camera does not have a flash. Both cameras are capable of recording videos. The main camera has a resolution of 8 MP and the front camera has a resolution of 5 MP. The main camera has a digital zoom feature and the front camera does not have a flash. Both cameras are capable of recording videos. The main camera has a resolution of 8 MP and the front camera has a resolution of 5 MP. The main camera has a digital zoom feature and the front camera does not have a flash. Both cameras are capable of recording videos. The main camera has a resolution of 8 MP and the front camera has a resolution of 5 MP. The main camera has a digital zoom feature and the front camera does not have a flash. Both cameras are capable of recording videos. The main camera has a resolution of 8 MP and the front camera has a resolution of 5 MP. The main camera has a digital zoom feature and the front camera does not have a flash. Both cameras are capable of recording videos. The main camera has a resolution of 8 MP and the front camera has a resolution of 5 MP. The main camera has a digital zoom feature and the front camera does not have a flash. Both cameras are capable of recording videos. The main camera has a resolution of 8 MP and the front camera has a resolution of 5 MP. The main camera has a digital zoom feature and the front camera does not have a flash. Both cameras are capable of recording videos. The main camera has a resolution of 8 MP and the front camera has a resolution of 5 MP. The main camera has a digital zoom feature and the front camera does not have a flash. Both cameras are capable of recording videos. The main camera has a resolution of 8 MP and the front camera has a resolution of 5 MP. The main camera has a digital zoom feature and the front camera does not have a flash. Both cameras are capable of recording videos. The main camera has a resolution of 8 MP and the front camera has a resolution of 5 MP. The main camera has a digital zoom feature and the front camera does not have a flash. Both cameras are capable of recording videos. The main camera has a resolution of 8 MP and the front camera has a resolution of 5 MP. The main camera has a digital zoom feature and the front camera does not have a flash. Both cameras are capable of recording videos. The main camera has a resolution of 8 MP and the front camera has a resolution of 5 MP. The main camera has a digital zoom feature and the front camera does not have a flash. Both cameras are capable of recording videos. The main camera has a resolution of 8 MP and the front camera has a resolution of 5 MP. The main camera has a digital zoom feature and the front camera does not have a flash. Both cameras are capable of recording videos. The main camera has a resolution of 8 MP and the front camera has a resolution of 5 MP. The main camera has a digital zoom feature and the front camera does not have a flash. Both cameras are capable of recording videos. The main camera has a resolution of 8 MP and the front camera has a resolution of 5 MP. The main camera has a digital zoom feature and the front camera does not have a flash. Both cameras are capable of recording videos. The main camera has a resolution of 8 MP and the front camera has a resolution of 5 MP. The main camera has a digital zoom feature and the front camera does not have a flash. Both cameras are capable of recording videos. The main camera has a resolution of 8 MP and the front camera has a resolution of 5 MP. The main camera has a digital zoom feature and the front camera does not have a flash. Both cameras are capable of recording videos. The main camera has a resolution of 8 MP and the front camera has a resolution of 5 MP. The main camera has a digital zoom feature and the front camera does not have a flash. Both cameras are capable of recording videos. The main camera has a resolution of 8 MP and the front camera has a resolution of 5 MP. The main camera has a digital zoom feature and the front camera does not have a flash. Both cameras are capable of recording videos. The main camera has a resolution of 8 MP and the front camera has a resolution of 5 MP. The main camera has a digital zoom feature and the front camera does not have a flash. Both cameras are capable of recording videos. The main camera has a resolution of 8 MP and the front camera has a resolution of 5 MP. The main camera has a digital zoom feature and the front camera does not have a flash. Both cameras are capable of recording videos. The main camera has a resolution of 8 MP and the front camera has a resolution of 5 MP. The main camera has a digital zoom feature and the front camera does not have a flash. Both cameras are capable of recording videos. The main camera has a resolution of 8 MP and the front camera has a resolution of 5 MP. The main camera has a digital zoom feature and the front camera does not have a flash. Both cameras are capable of recording videos. The main camera has a resolution of 8 MP and the front camera has a resolution of 5 MP. The main camera has a digital zoom feature and the front camera does not have a flash. Both cameras are capable of recording videos. The main camera has a resolution of 8 MP and the front camera has a resolution of 5 MP. The main camera has a digital zoom feature and the front camera does not have a flash. Both cameras are capable of recording videos. The main camera has a resolution of 8 MP and the front camera has a resolution of 5 MP. The main camera has a digital zoom feature and the front camera does not have a flash. Both cameras are capable of recording videos. The main camera has a resolution of 8 MP and the front camera has a resolution of 5 MP. The main camera has a digital zoom feature and the front camera does not have a flash. Both cameras are capable of recording videos. The main camera has a resolution of 8 MP and the front camera has a resolution of 5 MP. The main camera has a digital zoom feature and the front camera does not have a flash. Both cameras are capable of recording videos. The main camera has a resolution of 8 MP and the front camera has a resolution of 5 MP. The main camera has a digital zoom feature and the front camera does not have a flash. Both cameras are capable of recording videos. The main camera has a resolution of 8 MP and the front camera has a resolution of 5 MP. The main camera has a digital zoom feature and the front camera does not have a flash. Both cameras are capable of recording videos. The main camera has a resolution of 8 MP and the front camera has a resolution of 5 MP. The main camera has a digital zoom feature and the front camera does not have a flash. Both cameras are capable of recording videos. The main camera has a resolution of 8 MP and the front camera has a resolution of 5 MP. The main camera has a digital zoom feature and the front camera does not have a flash. Both cameras are capable of recording videos. The main camera has a resolution of 8 MP and the front', 'The HTC Desire 828 Dual Sim is a smartphone that runs on the Android operating system with a custom UI. It has a 2800mAh Lithium-Polymer (Li-Po) battery and supports 2G, 3G, and 4G networks. The main camera has a resolution of [Resolution] and features [Features], while the front camera has a resolution of Full HD Video Recording (1080p) and features Autofocus and LED Flash. The phone has 2GB RAM and 16GB internal storage, with a microSD card slot for additional storage. The main camera has a resolution of [Resolution] and features [Features], while the front camera has a resolution of Full HD Video Recording (1080p) and features Autofocus and LED Flash. The phone has 2GB RAM and 16GB internal storage, with a microSD card slot for additional storage.', 'The HTC Desire 828 Dual Sim is a smartphone that runs on the Android operating system with no custom UI. It has a 157.7 x 78.9 x 7.9 mm dimension and weighs 150 grams. The main camera has a resolution of [Resolution] and features [Features]. The front camera has a resolution of Full HD Video Recording (1080p) and features Autofocus and LED Flash. The battery has a capacity of 2800mAh and uses a Lithium-Polymer (Li-Po) type. The connectivity options include Wi-Fi, Bluetooth, GPS, FM Radio, and 3.5mm headphone jack. The USB OTG is also available. The phone supports 4G, 3G, and 2G networks with GPRS and EDGE. The SIM card slots are dual and the SIM card type is not specified. The charging port is not mentioned. The phone has a 2800mAh battery and supports Wi-Fi, Bluetooth, GPS, FM Radio, and 3.5mm headphone jack. The USB OTG is also available. The phone supports 4G, 3G, and 2G networks with GPRS and EDGE. The SIM card slots are dual and the SIM card type is not specified. The charging port is not mentioned. The phone has a 2800mAh battery and supports Wi-Fi, Bluetooth, GPS, FM Radio, and 3.5mm headphone jack. The USB OTG is also available. The phone supports 4G, 3G, and 2G networks with GPRS and EDGE. The SIM card slots are dual and the SIM card type is not specified. The charging port is not mentioned. The phone has a 2800mAh battery and supports Wi-Fi, Bluetooth, GPS, FM Radio, and 3.5mm headphone jack. The USB OTG is also available. The phone supports 4G, 3G, and 2G networks with GPRS and EDGE. The SIM card slots are dual and the SIM card type is not specified. The charging port is not mentioned. The phone has a 2800mAh battery and supports Wi-Fi, Bluetooth, GPS, FM Radio, and 3.5mm headphone jack. The USB OTG is also available. The phone supports 4G, 3G, and 2G networks with GPRS and EDGE. The SIM card slots are dual and the SIM card type is not specified. The charging port is not mentioned. The phone has a 2800mAh battery and supports Wi-Fi, Bluetooth, GPS, FM Radio, and 3.5mm headphone jack. The USB OTG is also available. The phone supports 4G, 3G, and 2G networks with GPRS and EDGE. The SIM card slots are dual and the SIM card type is not specified. The charging port is not mentioned. The phone has a 2800mAh battery and supports Wi-Fi, Bluetooth, GPS, FM Radio, and 3.5mm headphone jack. The USB OTG is also available. The phone supports 4G, 3G, and 2G networks with GPRS and EDGE. The SIM card slots are dual and the SIM card type is not specified. The charging port is not mentioned. The phone has a 2800mAh battery and supports Wi-Fi, Bluetooth, GPS, FM Radio, and 3.5mm headphone jack. The USB OTG is also available. The phone supports 4G, 3G, and 2G networks with GPRS and EDGE. The SIM card slots are dual and the SIM card type is not specified. The charging port is not mentioned. The phone has a 2800mAh battery and supports Wi-Fi, Bluetooth, GPS, FM Radio, and 3.5mm headphone jack. The USB OTG is also available. The phone supports 4G, 3G, and 2G networks with GPRS and EDGE. The SIM card slots are dual and the SIM card type is not specified. The charging port is not mentioned. The phone has a 2800mAh battery and supports Wi-Fi, Bluetooth, GPS, FM Radio, and 3.5mm headphone jack. The USB OTG is also available. The phone supports 4G, 3G, and 2G networks with GPRS and EDGE. The SIM card slots are dual and the SIM card type is not specified. The charging port is not mentioned. The phone has a 2800mAh battery and supports Wi-Fi, Bluetooth, GPS, FM Radio, and 3.5mm headphone jack. The USB OTG is also available. The phone supports 4G, 3G, and 2G networks with GPRS and EDGE. The SIM card slots are dual and the SIM card type is not specified. The charging port is not mentioned. The phone has a 2800mAh battery and supports Wi-Fi, Bluetooth, GPS, FM Radio, and 3.5mm headphone jack. The USB OTG is also available. The phone supports 4G, 3G, and 2G networks with GPRS and EDGE. The SIM card slots are dual and the SIM card type is not specified. The charging port is not mentioned. The phone has a 2800mAh battery and supports Wi-Fi, Bluetooth, GPS, FM Radio, and 3.5mm headphone jack. The USB OTG is also available. The phone supports 4G, 3G, and 2G networks with GPRS and EDGE. The SIM card slots are dual and the SIM card type is not specified. The charging port is not mentioned. The phone has a 2800mAh battery and supports Wi-Fi, Bluetooth, GPS, FM Radio, and 3.5mm headphone jack. The USB OTG is also available. The phone supports 4G, 3G, and 2G networks with GPRS and EDGE. The SIM card slots are dual and the SIM card type is not specified. The charging port is not mentioned. The phone has a 2800mAh battery and supports Wi-Fi, Bluetooth, GPS, FM Radio, and 3.5mm headphone jack. The USB OTG is also available. The phone supports 4G, 3G, and 2G networks with GPRS and EDGE. The SIM card slots are dual and the SIM card type is not specified. The charging port is not mentioned. The phone has a 2800mAh battery and supports Wi-Fi, Bluetooth, GPS, FM Radio, and 3.5mm headphone jack. The USB OTG is also available. The phone supports 4G, 3G, and 2G networks with GPRS and EDGE. The SIM card slots are dual and the SIM card type is not specified. The charging port is not mentioned. The phone has a 2800mAh battery and supports Wi-Fi, Bluetooth, GPS, FM Radio, and 3.5mm headphone jack. The USB OTG is also available. The phone supports 4G, 3G, and 2G networks with GPRS and EDGE. The SIM card slots are dual and the SIM card type is not specified. The charging port is not mentioned. The phone has a 2800mAh battery and supports Wi-Fi, Bluetooth, GPS, FM Radio, and 3.5mm headphone jack. The USB OTG is also available. The phone supports 4G, 3G, and 2G networks with GPRS and EDGE. The SIM card slots are dual and the SIM card type is not specified. The charging port is not mentioned. The phone has a 2800mAh battery and supports Wi-Fi, Bluetooth, GPS, FM Radio, and 3.5mm headphone jack. The USB OTG is also available. The phone supports 4G, 3G, and 2G networks with GPRS and EDGE. The SIM card slots are dual and the SIM card type is not specified. The charging port is not mentioned. The phone has a 2800mAh battery and supports Wi-Fi, Bluetooth, GPS, FM Radio, and 3.5mm headphone jack. The USB OTG is also available. The phone supports 4G, 3G, and 2G networks with GPRS and EDGE. The SIM card slots are dual and the SIM card type is not specified. The charging port is not mentioned. The phone has a 2800mAh battery and supports Wi-Fi, Bluetooth, GPS, FM Radio, and 3.5mm headphone jack. The USB OTG is also available. The phone supports 4G, 3G, and 2G networks with GPRS and EDGE. The SIM card slots are dual and the SIM card type is not specified. The charging port is not mentioned. The phone has a 2800mAh battery and supports Wi-Fi, Bluetooth, GPS, FM Radio, and 3.5mm headphone jack. The USB OTG is also available. The phone supports 4G, 3G, and 2G networks with GPRS and EDGE. The SIM card slots are dual and the SIM card type is not specified. The charging port is not mentioned. The phone has a 2800mAh battery and supports Wi-Fi, Bluetooth, GPS, FM Radio, and 3.5mm headphone jack. The USB OTG is also available. The phone supports 4G, 3G, and 2G networks with GPRS and EDGE. The SIM card slots are dual and the SIM card type is not specified. The charging port is not mentioned. The phone has a 2800mAh battery and supports Wi-Fi, Bluetooth, GPS, FM Radio, and 3.5mm headphone jack. The USB OTG is also available. The phone supports 4G, 3G, and 2G networks with GPRS and EDGE. The SIM card slots are dual and the SIM card type is not specified. The charging port is not mentioned. The phone has a 2800mAh battery and supports Wi-Fi, Bluetooth, GPS, FM Radio, and 3.5mm headphone jack. The USB OTG is also available. The phone supports 4G, 3G, and 2G networks with GPRS and EDGE. The SIM card slots are dual and the SIM card type is not specified. The charging port is not mentioned. The phone has a 2800mAh battery and supports Wi-Fi, Bluetooth, GPS, FM Radio, and 3.5mm headphone jack. The USB OTG is also available. The phone supports 4G, 3G, and 2G networks with GPRS and EDGE. The SIM card slots are dual and the SIM card type is not specified. The charging port is not mentioned. The phone has a 2800mAh battery and supports Wi-Fi, Bluetooth, GPS, FM Radio, and 3.5mm headphone jack. The USB OTG is also available. The phone supports 4G, 3G, and 2G networks with GPRS and EDGE. The SIM card slots are dual and the SIM card type is not specified. The charging port is not mentioned. The phone has a 2800mAh battery and supports Wi-Fi, Bluetooth, GPS, FM Radio, and 3.5mm headphone jack. The USB OTG is also available. The phone supports 4G, 3G, and 2G networks with GPRS and EDGE. The SIM card slots are dual and the SIM card type is not specified. The charging port is not mentioned. The phone has a 2800mAh battery and supports Wi-Fi, Bluetooth, GPS, FM Radio, and 3.5mm headphone jack. The USB OTG is also available. The phone supports 4G, 3G, and 2G networks with GPRS and EDGE. The SIM card slots are dual and the SIM card type is not specified. The charging port is not mentioned. The phone has a 2800mAh battery and supports Wi-Fi, Bluetooth, GPS, FM Radio, and 3.5mm headphone jack. The USB OTG is also available. The phone supports 4G, 3G, and 2G networks with GPRS and EDGE. The SIM card slots are dual and the SIM card type is not specified. The charging port is not mentioned. The phone has a 2800mAh battery and supports Wi-Fi, Bluetooth, GPS, FM Radio, and 3.5mm headphone jack. The USB OTG is also available. The phone supports 4G, 3G, and 2G networks with GPRS and EDGE. The SIM card slots are dual and the SIM card type is not specified.']\n"
     ]
    }
   ],
   "source": [
    "print(a)"
   ]
  },
  {
   "cell_type": "code",
   "execution_count": 16,
   "metadata": {},
   "outputs": [],
   "source": [
    "with open(f'Outputs/Llama-2-7b-hf/{name}.json', 'w') as f:\n",
    "    json.dump(results, f, indent=4)"
   ]
  }
 ],
 "metadata": {
  "kernelspec": {
   "display_name": "Python 3",
   "language": "python",
   "name": "python3"
  },
  "language_info": {
   "codemirror_mode": {
    "name": "ipython",
    "version": 3
   },
   "file_extension": ".py",
   "mimetype": "text/x-python",
   "name": "python",
   "nbconvert_exporter": "python",
   "pygments_lexer": "ipython3",
   "version": "3.10.12"
  }
 },
 "nbformat": 4,
 "nbformat_minor": 2
}
