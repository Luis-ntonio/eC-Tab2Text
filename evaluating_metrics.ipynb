{
 "cells": [
  {
   "cell_type": "code",
   "execution_count": null,
   "metadata": {},
   "outputs": [
    {
     "data": {
      "text/plain": [
       "'from datasets import load_dataset\\nfrom transformers import (\\n    AutoModelForCausalLM,\\n    AutoTokenizer,\\n    BitsAndBytesConfig,\\n    HfArgumentParser,\\n    TrainingArguments,\\n    Trainer,\\n    pipeline,\\n    logging,\\n)\\nfrom peft import LoraConfig, PeftModel\\nfrom trl import SFTTrainer'"
      ]
     },
     "execution_count": 56,
     "metadata": {},
     "output_type": "execute_result"
    }
   ],
   "source": [
    "import evaluate\n",
    "import json\n",
    "from tqdm import tqdm\n",
    "from prometheus_eval import PrometheusEval\n",
    "from prometheus_eval.litellm import LiteLLM\n",
    "from prometheus_eval.prompts import ABSOLUTE_PROMPT, SCORE_RUBRIC_TEMPLATE\n",
    "import os\n",
    "import torch\n",
    "from datasets import load_dataset\n",
    "from transformers import (\n",
    "    AutoModelForCausalLM,\n",
    "    AutoTokenizer,\n",
    "    BitsAndBytesConfig,\n",
    "    HfArgumentParser,\n",
    "    TrainingArguments,\n",
    "    Trainer,\n",
    "    pipeline,\n",
    "    logging,\n",
    ")\n",
    "from peft import LoraConfig, PeftModel\n",
    "from trl import SFTTrainer"
   ]
  },
  {
   "cell_type": "code",
   "execution_count": 57,
   "metadata": {},
   "outputs": [],
   "source": [
    "name = 'Llama-2-7b-hf-M1-D2'\n",
    "#name = 'Mistral-7B-Instruct-v0.3-M2-D1'\n",
    "#name = 'StructLM-7B-M1-D2'\n",
    "\n",
    "folder = 'Llama-2-7b-hf'\n",
    "#folder = 'Mistral-7B-Instruct-v0.3'\n",
    "#folder = 'StructLm-7B'\n",
    "\n",
    "with open(f\"./Outputs/{folder}/{name}.json\", 'r') as f:\n",
    "    data = json.load(f)"
   ]
  },
  {
   "cell_type": "code",
   "execution_count": 58,
   "metadata": {},
   "outputs": [],
   "source": [
    "def evaluating(org, pred, metric_, value_):\n",
    "    dict_metric = {}\n",
    "    metric = evaluate.load(metric_)\n",
    "    metric_per_review = 0\n",
    "    idx = 0\n",
    "    if \"M1-D1\" in name or 'raw' in name:\n",
    "        for i in tqdm(range(len(org))):\n",
    "            review_org = org[i]\n",
    "            review_pred = pred[i]\n",
    "            try:\n",
    "                for key, val in review_org.items():\n",
    "                    if key not in dict_metric:\n",
    "                        dict_metric[key] = [0, 0] \n",
    "                    val_pred = [str(review_pred[key])]\n",
    "                    if metric_ == 'bleu':        \n",
    "                        score = metric.compute(references=[str(val)], predictions=val_pred, max_order=2, smooth=True)[value_]\n",
    "                    else:\n",
    "                        score = metric.compute(references=[str(val)], predictions=val_pred)[value_]\n",
    "                    dict_metric[key][0] += score\n",
    "                    dict_metric[key][1] += 1\n",
    "                    idx += 1\n",
    "            except:\n",
    "                idx += 1\n",
    "        sum = 0\n",
    "        rest = 0\n",
    "        for key in dict_metric.keys():\n",
    "            if dict_metric[key][1] != 0:\n",
    "                dict_metric[key][0] = round((dict_metric[key][0]/dict_metric[key][1])*100, 2)\n",
    "            else:\n",
    "                rest += 1\n",
    "            sum += dict_metric[key][0]\n",
    "        if len(dict_metric.keys()) - rest == 0:\n",
    "\n",
    "            dict_metric[\"Total\"] = [0]\n",
    "        dict_metric[\"Total\"] = [round(sum/(len(dict_metric.keys()) - rest), 2), len(dict_metric.keys()) - rest]\n",
    "        return dict_metric\n",
    "    else:\n",
    "        score = 0\n",
    "        for i in tqdm(range(len(org))):\n",
    "            if metric_ == 'bleu':        \n",
    "                score += metric.compute(references=[str(org[i])], predictions=[str(pred[i])], max_order=2, smooth=True)[value_]\n",
    "            else:\n",
    "                score += metric.compute(references=[str(org[i])], predictions=[str(pred[i])])[value_]\n",
    "        \n",
    "        dict_metric[\"Total\"] = [round(score/(len(org)) * 100, 2), len(org)]\n",
    "        return dict_metric"
   ]
  },
  {
   "cell_type": "code",
   "execution_count": 59,
   "metadata": {},
   "outputs": [
    {
     "name": "stderr",
     "output_type": "stream",
     "text": [
      "100%|██████████| 677/677 [00:02<00:00, 305.48it/s]\n",
      "100%|██████████| 677/677 [00:37<00:00, 18.08it/s]\n",
      "100%|██████████| 677/677 [00:38<00:00, 17.79it/s]\n",
      "100%|██████████| 677/677 [00:38<00:00, 17.75it/s]\n",
      "100%|██████████| 677/677 [00:37<00:00, 17.92it/s]\n",
      "[nltk_data] Downloading package wordnet to\n",
      "[nltk_data]     C:\\Users\\lagg1\\AppData\\Roaming\\nltk_data...\n",
      "[nltk_data]   Package wordnet is already up-to-date!\n",
      "[nltk_data] Downloading package punkt_tab to\n",
      "[nltk_data]     C:\\Users\\lagg1\\AppData\\Roaming\\nltk_data...\n",
      "[nltk_data]   Package punkt_tab is already up-to-date!\n",
      "[nltk_data] Downloading package omw-1.4 to\n",
      "[nltk_data]     C:\\Users\\lagg1\\AppData\\Roaming\\nltk_data...\n",
      "[nltk_data]   Package omw-1.4 is already up-to-date!\n",
      "100%|██████████| 677/677 [00:03<00:00, 188.27it/s]\n"
     ]
    }
   ],
   "source": [
    "Original = data['Original']\n",
    "Pred = data['Prediction']\n",
    "bleu = evaluating(Original, Pred, 'bleu', 'bleu')\n",
    "rougeL = evaluating(Original, Pred, \"rouge\", \"rougeL\")\n",
    "rouge1 = evaluating(Original, Pred, \"rouge\", \"rouge1\")\n",
    "rouge2 = evaluating(Original, Pred, \"rouge\", \"rouge2\")\n",
    "rougeLsum = evaluating(Original, Pred, \"rouge\", \"rougeLsum\")\n",
    "meteor = evaluating(Original, Pred, \"meteor\", \"meteor\")"
   ]
  },
  {
   "cell_type": "code",
   "execution_count": 60,
   "metadata": {},
   "outputs": [
    {
     "name": "stdout",
     "output_type": "stream",
     "text": [
      "BLEU: {'Total': [6.5, 677]}\n",
      "ROUGE-L: {'Total': [16.59, 677]}\n",
      "ROUGE-1: {'Total': [22.77, 677]}\n",
      "ROUGE-2: {'Total': [7.79, 677]}\n",
      "ROUGE-Lsum: {'Total': [16.59, 677]}\n",
      "METEOR: {'Total': [14.07, 677]}\n"
     ]
    }
   ],
   "source": [
    "print(f\"BLEU: {bleu}\")\n",
    "print(f\"ROUGE-L: {rougeL}\")\n",
    "print(f\"ROUGE-1: {rouge1}\")\n",
    "print(f\"ROUGE-2: {rouge2}\")\n",
    "print(f\"ROUGE-Lsum: {rougeLsum}\")\n",
    "print(f\"METEOR: {meteor}\")\n"
   ]
  },
  {
   "cell_type": "code",
   "execution_count": null,
   "metadata": {},
   "outputs": [],
   "source": [
    "\"\"\"import json\n",
    "\n",
    "# Open and load the JSON file\n",
    "with open(f\"./metrics/{folder}/{name}.json\", 'r') as f:\n",
    "    data = json.load(f)\n",
    "\n",
    "data['bleu'] = bleu\n",
    "data['rougeL'] = rougeL\n",
    "data['rouge1'] = rouge1\n",
    "data['rouge2'] = rouge2\n",
    "data['rougeLsum'] = rougeLsum\n",
    "data['meteor'] = meteor\n",
    "\"\"\""
   ]
  },
  {
   "cell_type": "code",
   "execution_count": null,
   "metadata": {},
   "outputs": [],
   "source": [
    "\"\"\"with open(f\"./metrics/{folder}/{name}.json\", 'w+') as f:\n",
    "    json.dump(data, f, indent=4 ,ensure_ascii=False)\"\"\""
   ]
  },
  {
   "cell_type": "code",
   "execution_count": 8,
   "metadata": {},
   "outputs": [
    {
     "name": "stdout",
     "output_type": "stream",
     "text": [
      "================================================================================\n",
      "Your GPU supports bfloat16: accelerate training with bf16=True\n",
      "================================================================================\n"
     ]
    },
    {
     "data": {
      "application/vnd.jupyter.widget-view+json": {
       "model_id": "73b69ba21f7a47cfadd4974cb45dc4fb",
       "version_major": 2,
       "version_minor": 0
      },
      "text/plain": [
       "Loading checkpoint shards:   0%|          | 0/8 [00:00<?, ?it/s]"
      ]
     },
     "metadata": {},
     "output_type": "display_data"
    }
   ],
   "source": [
    "model_name = \"prometheus-eval/prometheus-7b-v2.0\"\n",
    "\n",
    "# Activate 8-bit precision base model loading\n",
    "use_8bit = True\n",
    "\n",
    "# Compute dtype for 4-bit base models\n",
    "bnb_8bit_compute_dtype = \"float16\"\n",
    "\n",
    "# Quantization type (fp4 or nf4)\n",
    "bnb_4bit_quant_type = \"nf4\"\n",
    "\n",
    "# Activate nested quantization for 4-bit base models (double quantization)\n",
    "use_nested_quant = False\n",
    "\n",
    "# Load the entire model on the GPU 0\n",
    "device_map = {\"\": 0}\n",
    "\n",
    "# Load tokenizer and model with QLoRA configuration\n",
    "compute_dtype = getattr(torch, bnb_8bit_compute_dtype)\n",
    "\n",
    "bnb_config = BitsAndBytesConfig(\n",
    "    load_in_4bit=use_8bit,\n",
    "    bnb_4bit_quant_type=bnb_4bit_quant_type,\n",
    "    bnb_4bit_compute_dtype=compute_dtype,\n",
    "    bnb_4bit_use_double_quant=use_nested_quant,\n",
    ")\n",
    "\n",
    "# Check GPU compatibility with bfloat16\n",
    "if compute_dtype == torch.float16 and use_8bit:\n",
    "    major, _ = torch.cuda.get_device_capability()\n",
    "    if major >= 8:\n",
    "        print(\"=\" * 80)\n",
    "        print(\"Your GPU supports bfloat16: accelerate training with bf16=True\")\n",
    "        print(\"=\" * 80)\n",
    "\n",
    "# Load base model\n",
    "model = AutoModelForCausalLM.from_pretrained(\n",
    "    model_name,\n",
    "    quantization_config=bnb_config,\n",
    "    device_map=device_map\n",
    ")\n",
    "model.config.use_cache = False\n",
    "model.config.pretraining_tp = 1\n",
    "\n",
    "# Load LLaMA tokenizer\n",
    "tokenizer = AutoTokenizer.from_pretrained(model_name, trust_remote_code=True)\n",
    "tokenizer.pad_token = tokenizer.eos_token\n",
    "tokenizer.padding_side = \"right\" # Fix weird overflow issue with fp16 training\n",
    "tokenizer.pad_token_id = tokenizer.eos_token_id  # Set pad_token_id to eos_token_id"
   ]
  },
  {
   "cell_type": "code",
   "execution_count": 9,
   "metadata": {},
   "outputs": [],
   "source": [
    "def corectness(Prompt, Predicted, Original):\n",
    "    instruction = f\"\"\"Your task is to evaluate the generated answer and reference answer for the query: {Prompt}\"\"\"\n",
    "    response = f\"\"\"{Predicted}\"\"\"\n",
    "    reference_answer = f\"\"\"{Original}\"\"\"\n",
    "    rubric = {\n",
    "            \"criteria\": \"Is the model proficient in generate a coherence response\",\n",
    "            \"score1_description\": \"If the generated answer is not matching with any of the reference answers.\",\n",
    "            \"score2_description\": \"If the generated answer is according to reference answer but not relevant to user query.\",\n",
    "            \"score3_description\": \"If the generated answer is relevant to the user query and reference answer but contains mistakes.\",\n",
    "    \t\t\"score4_description\": \"If the generated answer is relevant to the user query and has the exact same metrics as the reference answer, but it is not as concise.\",\n",
    "            \"score5_description\": \"If the generated answer is relevant to the user query and fully correct according to the reference answer.\"}\n",
    "    #https://github.com/prometheus-eval/prometheus-eval\n",
    "\n",
    "    ABS_SYSTEM_PROMPT = \"You are a fair judge assistant tasked with providing clear, objective feedback based on specific criteria, ensuring each assessment reflects the absolute standards set for performance.\"\n",
    "\n",
    "    ABSOLUTE_PROMPT = f\"\"\"###Task Description:\n",
    "    An instruction (might include an Input inside it), a response to evaluate, a reference answer that gets a score of 5, and a score rubric representing a evaluation criteria are given.\n",
    "    1. Write a detailed feedback that assess the quality of the response strictly based on the given score rubric, not evaluating in general.\n",
    "    2. After writing a feedback, write a score that is an integer between 1 and 5. You should refer to the score rubric.\n",
    "    3. The output format should look as follows: \"Feedback: (write a feedback for criteria) [RESULT] (an integer number between 1 and 5)\"\n",
    "    4. Please do not generate any other opening, closing, and explanations.\n",
    "\n",
    "    ###The instruction to evaluate:\n",
    "    {instruction}\n",
    "\n",
    "    ###Response to evaluate:\n",
    "    {response}\n",
    "\n",
    "    ###Reference Answer (Score 5):\n",
    "    {reference_answer}\n",
    "\n",
    "    ###Score Rubrics:\n",
    "    {rubric}\n",
    "\n",
    "    ###Feedback: \"\"\"\n",
    "\n",
    "    user_content = ABS_SYSTEM_PROMPT + \"\\n\\n\" + ABSOLUTE_PROMPT # Fill the prompt with your data\n",
    "\n",
    "    messages = [\n",
    "        {\"role\": \"user\", \"content\": user_content},\n",
    "    ]\n",
    "\n",
    "    encodeds = tokenizer.apply_chat_template(messages, return_tensors=\"pt\")\n",
    "\n",
    "    model_inputs = encodeds.to(\"cuda\")\n",
    "\n",
    "\n",
    "    generated_ids = model.generate(model_inputs, max_new_tokens=4000, do_sample=True, pad_token_id=tokenizer.eos_token_id)\n",
    "    decoded = tokenizer.batch_decode(generated_ids)\n",
    "    return decoded[0]"
   ]
  },
  {
   "cell_type": "code",
   "execution_count": 10,
   "metadata": {},
   "outputs": [],
   "source": [
    "def faithfullness(Prompt, Predicted, Original):\n",
    "    instruction = f\"\"\"Your task is to evaluate if the Generate answer has information from the context and also from the Existing answer.\"\"\"\n",
    "    response = f\"\"\"{Predicted}\"\"\"\n",
    "    reference_answer = f\"\"\"{Original}\"\"\"\n",
    "    rubric = {\n",
    "            \"score1_description\": \"If the generated answer is not matching with any of the reference answers and also not having information from the context.\",\n",
    "            \"score2_description\": \"If the generated answer is having information from the context but not from existing answer and also have some irrelevant information.\",\n",
    "            \"score3_description\": \"If the generated answer is having relevant information from the context and some information from existing answer but have additional information that do not exist in context and also do not in existing answer.\",\n",
    "    \t\t\"score4_description\": \"If the generated answer is having relevant information from the context and some information from existing answer.\",\n",
    "            \"score5_description\": \"If the generated answer is matching with the existing answer and also having information from the context.\"}\n",
    "    #https://github.com/prometheus-eval/prometheus-eval\n",
    "\n",
    "    ABS_SYSTEM_PROMPT = \"You are a fair judge assistant tasked with providing clear, objective feedback based on specific criteria, ensuring each assessment reflects the absolute standards set for performance.\"\n",
    "\n",
    "    ABSOLUTE_PROMPT = f\"\"\"###Task Description:\n",
    "    An instruction (might include an Input inside it), a response to evaluate, a reference answer that gets a score of 5, and a score rubric representing a evaluation criteria are given.\n",
    "    1. Write a detailed feedback that assess the quality of the response strictly based on the given score rubric, not evaluating in general.\n",
    "    2. After writing a feedback, write a score that is an integer between 1 and 5. You should refer to the score rubric.\n",
    "    3. The output format should look as follows: \"Feedback: (write a feedback for criteria) [RESULT] (an integer number between 1 and 5)\"\n",
    "    4. Please do not generate any other opening, closing, and explanations.\n",
    "    5. Only evaluate on common things between generated answer and reference answer. Don't evaluate on things which are present in reference answer but not in generated answer.\n",
    "\n",
    "    ###The instruction to evaluate:\n",
    "    {instruction}\n",
    "\n",
    "    ###Context:\n",
    "    {Prompt}\n",
    "\n",
    "    ###Existing answer (Score 5):\n",
    "    {reference_answer}\n",
    "\n",
    "    ###Generate answer to evaluate:\n",
    "    {response}\n",
    "\n",
    "    ###Score Rubrics:\n",
    "    {rubric}\n",
    "\n",
    "    ###Feedback: \"\"\"\n",
    "\n",
    "    user_content = ABS_SYSTEM_PROMPT + \"\\n\\n\" + ABSOLUTE_PROMPT # Fill the prompt with your data\n",
    "\n",
    "    messages = [\n",
    "        {\"role\": \"user\", \"content\": user_content},\n",
    "    ]\n",
    "\n",
    "    encodeds = tokenizer.apply_chat_template(messages, return_tensors=\"pt\")\n",
    "\n",
    "    model_inputs = encodeds.to(\"cuda\")\n",
    "\n",
    "\n",
    "    generated_ids = model.generate(model_inputs, max_new_tokens=4000, do_sample=True, pad_token_id=tokenizer.eos_token_id)\n",
    "    decoded = tokenizer.batch_decode(generated_ids)\n",
    "    return decoded[0]"
   ]
  },
  {
   "cell_type": "code",
   "execution_count": 11,
   "metadata": {},
   "outputs": [],
   "source": [
    "def fluency(Prompt, Predicted, Original):\n",
    "    instruction = f\"\"\"Evaluate the fluency of the generated JSON answer.\"\"\"\n",
    "    response = json.dumps(Predicted, indent=2)\n",
    "    reference_answer = json.dumps(Original, indent=2)\n",
    "    rubric = {\n",
    "            \"score1_description\": \"The generated JSON answer is not fluent and is difficult to understand.\",\n",
    "            \"score2_description\": \"The generated JSON answer has several grammatical errors and awkward phrasing.\",\n",
    "            \"score3_description\": \"The generated JSON answer is mostly fluent but contains some grammatical errors or awkward phrasing.\",\n",
    "            \"score4_description\": \"The generated JSON answer is fluent with minor grammatical errors or awkward phrasing.\",\n",
    "            \"score5_description\": \"The generated JSON answer is perfectly fluent with no grammatical errors or awkward phrasing.\"}\n",
    "    #https://github.com/prometheus-eval/prometheus-eval\n",
    "\n",
    "    ABS_SYSTEM_PROMPT = \"You are a fair judge assistant tasked with providing clear, objective feedback based on specific criteria, ensuring each assessment reflects the absolute standards set for performance.\"\n",
    "\n",
    "    ABSOLUTE_PROMPT = f\"\"\"###Task Description:\n",
    "    An instruction (might include an Input inside it), a response to evaluate, a reference answer that gets a score of 5, and a score rubric representing a evaluation criteria are given.\n",
    "    1. Write a detailed feedback that assess the quality of the response strictly based on the given score rubric, not evaluating in general.\n",
    "    2. After writing a feedback, write a score that is an integer between 1 and 5. You should refer to the score rubric.\n",
    "    3. The output format should look as follows: \"Feedback: (write a feedback for criteria) [RESULT] (an integer number between 1 and 5)\"\n",
    "    4. Please do not generate any other opening, closing, and explanations.\n",
    "\n",
    "    ###The instruction to evaluate:\n",
    "    {instruction}\n",
    "\n",
    "    ###Response to evaluate:\n",
    "    {response}\n",
    "\n",
    "    ###Reference Answer (Score 5):\n",
    "    {reference_answer}\n",
    "\n",
    "    ###Score Rubrics:\n",
    "    {rubric}\n",
    "\n",
    "    ###Feedback: \"\"\"\n",
    "\n",
    "    user_content = ABS_SYSTEM_PROMPT + \"\\n\\n\" + ABSOLUTE_PROMPT # Fill the prompt with your data\n",
    "\n",
    "    messages = [\n",
    "        {\"role\": \"user\", \"content\": user_content},\n",
    "    ]\n",
    "\n",
    "    encodeds = tokenizer.apply_chat_template(messages, return_tensors=\"pt\")\n",
    "\n",
    "    model_inputs = encodeds.to(\"cuda\")\n",
    "\n",
    "    generated_ids = model.generate(model_inputs, max_new_tokens=4000, do_sample=True, pad_token_id=tokenizer.eos_token_id)\n",
    "    decoded = tokenizer.batch_decode(generated_ids)\n",
    "    return decoded[0]\n"
   ]
  },
  {
   "cell_type": "code",
   "execution_count": 12,
   "metadata": {},
   "outputs": [
    {
     "name": "stderr",
     "output_type": "stream",
     "text": [
      "  0%|          | 0/2294 [00:00<?, ?it/s]The attention mask is not set and cannot be inferred from input because pad token is same as eos token. As a consequence, you may observe unexpected behavior. Please pass your input's `attention_mask` to obtain reliable results.\n",
      "100%|██████████| 2294/2294 [3:03:06<00:00,  4.79s/it]  \n"
     ]
    }
   ],
   "source": [
    "results = []\n",
    "for i in tqdm(range(len(data[\"Original\"]))):\n",
    "    Prompt = data[\"Prompt\"][i]\n",
    "    Pred = data[\"Prediction\"][i]\n",
    "    Org = data[\"Original\"][i]\n",
    "    resp = corectness(Prompt=Prompt, Predicted=Pred, Original=Org)\n",
    "    results.append(resp)"
   ]
  },
  {
   "cell_type": "code",
   "execution_count": 13,
   "metadata": {},
   "outputs": [
    {
     "name": "stderr",
     "output_type": "stream",
     "text": [
      "100%|██████████| 2294/2294 [3:15:41<00:00,  5.12s/it]  \n"
     ]
    }
   ],
   "source": [
    "results_faithfullness = []\n",
    "for i in tqdm(range(len(data[\"Original\"]))):\n",
    "    Prompt = data[\"Prompt\"][i]\n",
    "    Pred = data[\"Prediction\"][i]\n",
    "    Org = data[\"Original\"][i]\n",
    "    resp = faithfullness(Prompt=Prompt, Predicted=Pred, Original=Org)\n",
    "    results_faithfullness.append(resp)"
   ]
  },
  {
   "cell_type": "code",
   "execution_count": 14,
   "metadata": {},
   "outputs": [
    {
     "name": "stderr",
     "output_type": "stream",
     "text": [
      "100%|██████████| 2294/2294 [3:05:39<00:00,  4.86s/it]  \n"
     ]
    }
   ],
   "source": [
    "results_fluency = []\n",
    "for i in tqdm(range(len(data[\"Original\"]))):\n",
    "    Prompt = data[\"Prompt\"][i]\n",
    "    Pred = data[\"Prediction\"][i]\n",
    "    Org = data[\"Original\"][i]\n",
    "    resp = corectness(Prompt=Prompt, Predicted=Pred, Original=Org)\n",
    "    results_fluency.append(resp)"
   ]
  },
  {
   "cell_type": "code",
   "execution_count": 15,
   "metadata": {},
   "outputs": [],
   "source": [
    "results_ = []\n",
    "for i in results:\n",
    "    try:\n",
    "        val = i.split(\"[RESULT] \")\n",
    "        val = val[2]\n",
    "        results_.append(int(val[0]))\n",
    "    except:\n",
    "        pass\n",
    "\n",
    "results_faithfullness_ = []\n",
    "for i in results_faithfullness:\n",
    "    try:\n",
    "        val = i.split(\"[RESULT] \")\n",
    "        val = val[2]\n",
    "        results_faithfullness_.append(int(val[0]))\n",
    "    except:\n",
    "        pass\n",
    "results_fluency_ = []\n",
    "for i in results_fluency:\n",
    "    try:\n",
    "        val = i.split(\"[RESULT] \")\n",
    "        val = val[2]\n",
    "        results_fluency_.append(int(val[0]))\n",
    "    except:\n",
    "        pass"
   ]
  },
  {
   "cell_type": "code",
   "execution_count": 16,
   "metadata": {},
   "outputs": [],
   "source": [
    "metrics = {\n",
    "    \"bleu\" : bleu,\n",
    "    \"rouge1\" : rouge1,\n",
    "    \"rouge2\" : rouge2,\n",
    "    \"rougeL\" : rougeL,\n",
    "    \"rougeLsum\" : rougeLsum,\n",
    "    \"meteor\" : meteor,\n",
    "    \"correctness\": ((sum(results_)/len(results_)) * 100)/5,\n",
    "    \"faithfullness\": ((sum(results_faithfullness_)/len(results_faithfullness_)) * 100)/5,\n",
    "    \"fluency\": ((sum(results_fluency_)/len(results_fluency_)) * 100)/5\n",
    "}"
   ]
  },
  {
   "cell_type": "code",
   "execution_count": 17,
   "metadata": {},
   "outputs": [
    {
     "name": "stdout",
     "output_type": "stream",
     "text": [
      "73.07121013543032\n"
     ]
    }
   ],
   "source": [
    "print(metrics[\"correctness\"])"
   ]
  },
  {
   "cell_type": "code",
   "execution_count": 18,
   "metadata": {},
   "outputs": [],
   "source": [
    "with open(f\"./metrics/{folder}/{name}.json\", 'w+') as f:\n",
    "    json.dump(metrics, f, indent=4 ,ensure_ascii=False)"
   ]
  }
 ],
 "metadata": {
  "kernelspec": {
   "display_name": "Python 3",
   "language": "python",
   "name": "python3"
  },
  "language_info": {
   "codemirror_mode": {
    "name": "ipython",
    "version": 3
   },
   "file_extension": ".py",
   "mimetype": "text/x-python",
   "name": "python",
   "nbconvert_exporter": "python",
   "pygments_lexer": "ipython3",
   "version": "3.10.12"
  }
 },
 "nbformat": 4,
 "nbformat_minor": 2
}
